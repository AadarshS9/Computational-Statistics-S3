{
  "nbformat": 4,
  "nbformat_minor": 0,
  "metadata": {
    "colab": {
      "provenance": [],
      "authorship_tag": "ABX9TyOirEmL0QSr2+v8s1/eS5bo",
      "include_colab_link": true
    },
    "kernelspec": {
      "name": "python3",
      "display_name": "Python 3"
    },
    "language_info": {
      "name": "python"
    }
  },
  "cells": [
    {
      "cell_type": "markdown",
      "metadata": {
        "id": "view-in-github",
        "colab_type": "text"
      },
      "source": [
        "<a href=\"https://colab.research.google.com/github/AadarshS9/Computational-Statistics-S3/blob/main/1st_cycle_17_11_22.ipynb\" target=\"_parent\"><img src=\"https://colab.research.google.com/assets/colab-badge.svg\" alt=\"Open In Colab\"/></a>"
      ]
    },
    {
      "cell_type": "code",
      "execution_count": null,
      "metadata": {
        "colab": {
          "base_uri": "https://localhost:8080/"
        },
        "id": "qC-ffoZtxcjZ",
        "outputId": "3112a25d-b5f7-426e-ca82-77cb4e452d91"
      },
      "outputs": [
        {
          "output_type": "stream",
          "name": "stdout",
          "text": [
            "Program to accept two numbers from the user and perform multiplication\n",
            "\n",
            "Kindly enter the first number: 6\n",
            "Kindly enter the second number: 3\n",
            "\n",
            "The result of 6 * 3 is: 18\n"
          ]
        }
      ],
      "source": [
        "#1\n",
        "print('Program to accept two numbers from the user and perform multiplication\\n')\n",
        "num1=int(input(\"Kindly enter the first number: \"))\n",
        "num2=int(input(\"Kindly enter the second number: \"))\n",
        "result=num1*num2\n",
        "print(\"\\nThe result of\",num1,\"*\",num2,\"is:\",result)"
      ]
    },
    {
      "cell_type": "code",
      "source": [
        "#2\n",
        "print('Program to print all prime numbers within an interval\\n')\n",
        "s=int(input(\"Kindly enter value of starting range: \"))\n",
        "e=int(input(\"Kindly enter value of ending range: \"))\n",
        "print(\"\\nThe Prime Numbers in the given interval range from \",s,\" to \",e,\" are: \")  \n",
        "for number in range (s,e + 1):  \n",
        "    if number>1:  \n",
        "        for i in range (2, number):  \n",
        "            if (number%i)==0:  \n",
        "                break  \n",
        "        else:  \n",
        "            print (number) "
      ],
      "metadata": {
        "colab": {
          "base_uri": "https://localhost:8080/"
        },
        "id": "4wQY5Mtty0Bq",
        "outputId": "f69fdc7e-c9e9-4820-c5ec-a3ff54604309"
      },
      "execution_count": null,
      "outputs": [
        {
          "output_type": "stream",
          "name": "stdout",
          "text": [
            "Program to print all prime numbers within an interval\n",
            "\n",
            "Kindly enter value of starting range: 1\n",
            "Kindly enter value of ending range: 10\n",
            "\n",
            "The Prime Numbers in the given interval range from  1  to  10  are: \n",
            "2\n",
            "3\n",
            "5\n",
            "7\n"
          ]
        }
      ]
    },
    {
      "cell_type": "code",
      "source": [
        "#3\n",
        "print('Program to search an element in a list\\n')\n",
        "n=int(input(\"Kindly enter size of list: \"))\n",
        "list = []\n",
        "for i in range(0,n):\n",
        "  entry=int(input(\"Kindly enter element: \"))\n",
        "  list.append(entry)\n",
        "s=int(input(\"\\nKindly enter element to search for: \"))\n",
        "for i in range(0,n):\n",
        "  if s==list[i]:\n",
        "    print('Element ',s,' found at position ',i+1)\n",
        "    break\n",
        "if list[i]!=s and i+1==n:\n",
        "  print('Element ',s,' not present in list')\n"
      ],
      "metadata": {
        "colab": {
          "base_uri": "https://localhost:8080/"
        },
        "id": "vOUA6nytzw-S",
        "outputId": "8ee5cb36-2373-438a-c1a5-de34373beb78"
      },
      "execution_count": null,
      "outputs": [
        {
          "output_type": "stream",
          "name": "stdout",
          "text": [
            "Program to search an element in a list\n",
            "\n",
            "Kindly enter size of list: 3\n",
            "Kindly enter element: 6\n",
            "Kindly enter element: 9\n",
            "Kindly enter element: 11\n",
            "\n",
            "Kindly enter element to search for: 9\n",
            "Element  9  found at position  2\n"
          ]
        }
      ]
    },
    {
      "cell_type": "code",
      "source": [
        "#4\n",
        "print('Program to find the number of occurrences of a given substring in a string\\n')\n",
        "str=(input(\"Kindly enter string: \"))\n",
        "substr=(input(\"Kindly enter substring to count the number of occurences: \"))\n",
        "count = str.count(substr)\n",
        "print(\"The number of occurences of \",substr,\" is: \",count)"
      ],
      "metadata": {
        "colab": {
          "base_uri": "https://localhost:8080/"
        },
        "id": "HS3b8aO01zl4",
        "outputId": "8c9b7b5c-d48c-43d3-e61e-74a3d9b4fe40"
      },
      "execution_count": null,
      "outputs": [
        {
          "output_type": "stream",
          "name": "stdout",
          "text": [
            "Program to find the number of occurrences of a given substring in a string\n",
            "\n",
            "Kindly enter string: racecar carrace\n",
            "Kindly enter substring to count the number of occurences: car\n",
            "The number of occurences of  car  is:  2\n"
          ]
        }
      ]
    },
    {
      "cell_type": "code",
      "source": [
        "#5\n",
        "print('Program to implement calculator with functions like add, subtract, multiply, divide, exponent etc\\n')\n",
        "print('      CALCULATOR MENU')\n",
        "print('1.Add          \\t2.Subtract\\n3.Multiply\\t4.Divide\\n5.Exponent\\t6.Exit\\n')\n",
        "while True:\n",
        "  choice=int(input(\"Kindly enter your choice: \"))\n",
        "  if choice == 1:\n",
        "    num1 = float(input(\"Kindly enter first number: \"))\n",
        "    num2 = float(input(\"Kindly enter second number: \"))\n",
        "    print(num1, \"+\", num2, \"=\", num1+num2,\"\\n\")\n",
        "\n",
        "  elif choice == 2:\n",
        "    num1 = float(input(\"Kindly enter first number: \"))\n",
        "    num2 = float(input(\"Kindly enter second number: \"))\n",
        "    print(num1, \"-\", num2, \"=\", num1-num2,\"\\n\")\n",
        "\n",
        "  elif choice == 3:\n",
        "    num1 = float(input(\"Kindly enter first number: \"))\n",
        "    num2 = float(input(\"Kindly enter second number: \"))\n",
        "    print(num1, \"*\", num2, \"=\", num1*num2,\"\\n\")\n",
        "\n",
        "  elif choice == 4:\n",
        "    num1 = float(input(\"Kindly enter first number: \"))\n",
        "    num2 = float(input(\"Kindly enter second number: \"))\n",
        "    print(num1, \"/\", num2, \"=\", num1/num2,\"\\n\")\n",
        "\n",
        "  elif choice == 5:\n",
        "    num1 = float(input(\"Kindly enter base number: \"))\n",
        "    num2 = float(input(\"Kindly enter power number: \"))\n",
        "    print(num1, \"^\", num2, \"=\", num1**num2,\"\\n\")\n",
        "\n",
        "  elif choice == 6:\n",
        "    print('Succesfully exiting program\\nThank you')\n",
        "    break\n",
        "  \n",
        "  else:\n",
        "    print('Invalid Choice\\n')"
      ],
      "metadata": {
        "colab": {
          "base_uri": "https://localhost:8080/"
        },
        "id": "O1rXE9jJ3ndo",
        "outputId": "0a4d37b9-de1f-487e-dfaa-3de569b9c36e"
      },
      "execution_count": null,
      "outputs": [
        {
          "output_type": "stream",
          "name": "stdout",
          "text": [
            "Program to implement calculator with functions like add, subtract, multiply, divide, exponent etc.\n",
            "\n",
            "      CALCULATOR MENU\n",
            "1.Add          \t2.Subtract\n",
            "3.Multiply\t4.Divide\n",
            "5.Exponent\t6.Exit\n",
            "\n",
            "Kindly enter your choice: 5\n",
            "Kindly enter base number: 3\n",
            "Kindly enter power number: 2\n",
            "3.0 ^ 2.0 = 9.0 \n",
            "\n",
            "Kindly enter your choice: 2\n",
            "Kindly enter first number: 5\n",
            "Kindly enter second number: 9\n",
            "5.0 - 9.0 = -4.0 \n",
            "\n",
            "Kindly enter your choice: 4\n",
            "Kindly enter first number: 8\n",
            "Kindly enter second number: 2\n",
            "8.0 / 2.0 = 4.0 \n",
            "\n",
            "Kindly enter your choice: 1\n",
            "Kindly enter first number: 3\n",
            "Kindly enter second number: 11\n",
            "3.0 + 11.0 = 14.0 \n",
            "\n",
            "Kindly enter your choice: 3\n",
            "Kindly enter first number: 3\n",
            "Kindly enter second number: 3\n",
            "3.0 * 3.0 = 9.0 \n",
            "\n",
            "Kindly enter your choice: 7\n",
            "Invalid Choice\n",
            "\n",
            "Kindly enter your choice: 6\n",
            "Succesfully exiting program\n",
            "Thank you\n"
          ]
        }
      ]
    },
    {
      "cell_type": "code",
      "source": [
        "#6\n",
        "print('Program to find factorial of a given number using recursion\\n')\n",
        "def recur_factorial(n):  \n",
        "   if n == 1:  \n",
        "       return n  \n",
        "   else:  \n",
        "       return n*recur_factorial(n-1)  \n",
        "\n",
        "num = int(input(\"Kindly enter a number: \"))  \n",
        "if num < 0:  \n",
        "   print(\"Error, factorial does not exist for negative numbers\")  \n",
        "elif num == 0:  \n",
        "   print(\"The factorial of 0 is 1\")  \n",
        "else:  \n",
        "   print(\"The factorial of\",num,\"is\",recur_factorial(num)) "
      ],
      "metadata": {
        "colab": {
          "base_uri": "https://localhost:8080/"
        },
        "id": "6PL2Rz2q_dVm",
        "outputId": "79501664-ea76-4cf3-e8ab-f7a5f6dc6c5c"
      },
      "execution_count": null,
      "outputs": [
        {
          "output_type": "stream",
          "name": "stdout",
          "text": [
            "Program to find factorial of a given number using recursion\n",
            "\n",
            "Kindly enter a number: 6\n",
            "The factorial of 6 is 720\n"
          ]
        }
      ]
    },
    {
      "cell_type": "code",
      "source": [
        "#7\n",
        "print('Program to return multiple values from a function\\n')\n",
        "def fun():\n",
        "    str = \"return multiple values\"\n",
        "    x   = 1234567890\n",
        "    return str, x;\n",
        "str, x = fun()\n",
        "print(str,x)"
      ],
      "metadata": {
        "colab": {
          "base_uri": "https://localhost:8080/"
        },
        "id": "8-MA8ko7AVWP",
        "outputId": "6390bf39-4ed5-4c2d-ddb5-594b23640180"
      },
      "execution_count": null,
      "outputs": [
        {
          "output_type": "stream",
          "name": "stdout",
          "text": [
            "Program to return multiple values from a function\n",
            "\n",
            "return multiple values 1234567890\n"
          ]
        }
      ]
    },
    {
      "cell_type": "code",
      "source": [
        "#8\n",
        "print(\"Design a system using a class called books with suitable member functions, constructors and destructors.\")\n",
        "class book:\n",
        "    def __init__(self,author,title,price,publisher,stock):\n",
        "        self.author=author\n",
        "        self.title=title\n",
        "        self.price=price\n",
        "        self.publisher=publisher\n",
        "        self.stock=stock\n",
        "    def __del__(self):\n",
        "        print(\"Executing destructor\")\n",
        "print(\"Menu \\n 1.Input a book \\n 2.Rent a  book\")\n",
        "list1=[]\n",
        "while True:\n",
        "  flag=0\n",
        "  print(list1)\n",
        "  ch=int(input(\"Kindly enter your choice:\"))\n",
        "  if(ch==1):\n",
        "        author=input(\"Kindly enter author name:\")\n",
        "        title=input(\"Kindly enter book title :\")\n",
        "        price=float(input(\"Kindly enter price:\"))\n",
        "        publisher=input(\"Kindly enter publisher:\")\n",
        "        stock=int(input(\"Kindly enter stock position:\"))\n",
        "        obj = book(author,title,price,publisher,stock)\n",
        "        newl=[author,title,price,publisher,stock]\n",
        "        list1.append(newl)\n",
        "  elif (ch==2):\n",
        "        stitle=input(\"Kindly enter book title: \")\n",
        "        for i in range (0,len(list1)):\n",
        "            if (list1[i][1]==stitle):\n",
        "                flag=1\n",
        "                print(\"The book is available\")\n",
        "                n=int(input(\"Kindly enter the number of books required: \"))\n",
        "                #print(list1[i][4])\n",
        "                if (n<=list1[i][4]):\n",
        "                    print('Books(s) have been dispatched')\n",
        "                    print('Total price =',(n*list1[i][2]))\n",
        "                    list1[i][4]=list1[i][4]-n\n",
        "                else:\n",
        "                    print(\"Sorry, the required amount of books exceeds that in stock\")\n",
        "        if(flag==0):\n",
        "            print(\"Sorry! The book is unavailable\")\n",
        "  else:\n",
        "        print(\"Invalid option\")\n",
        "  if(input(\"Would you like to continue(y/n): \").lower()=='n'):\n",
        "        break"
      ],
      "metadata": {
        "colab": {
          "base_uri": "https://localhost:8080/"
        },
        "id": "2ZKVGEQiEAdr",
        "outputId": "eb161098-5b23-4247-fc9e-9a5f3134560d"
      },
      "execution_count": null,
      "outputs": [
        {
          "name": "stdout",
          "output_type": "stream",
          "text": [
            "Design a system using a class called books with suitable member functions, constructors and destructors.\n",
            "Menu \n",
            " 1.Input a book \n",
            " 2.Rent a  book\n",
            "[]\n",
            "Executing destructor\n",
            "[['Aadarsh', 'FSOG', 69.0, 'Times', 9]]\n",
            "The book is available\n",
            "Sorry, the required amount of books exceeds that in stock\n",
            "[['Aadarsh', 'FSOG', 69.0, 'Times', 9]]\n",
            "The book is available\n",
            "Books(s) have been dispatched\n",
            "Total price = 207.0\n",
            "[['Aadarsh', 'FSOG', 69.0, 'Times', 6]]\n",
            "Invalid option\n",
            "Would you like to continue(y/n): n\n"
          ]
        }
      ]
    },
    {
      "cell_type": "code",
      "source": [
        "#9\n",
        "with open(\"C:\\\\Users\\\\student\\\\Documents\\\\file1.txt\",'r') as firstfile, open(\"C:\\\\Users\\\\student\\\\Documents\\\\file2.txt\",'w') as secondfile:\n",
        "  for line in firstfile:\n",
        "    if not line.isspace():\n",
        "      secondfile.write(line)"
      ],
      "metadata": {
        "id": "4IdXi27LJDkm"
      },
      "execution_count": null,
      "outputs": []
    },
    {
      "cell_type": "code",
      "source": [
        "print('Program to find the most frequent words in a text read from a file.\\n')\n",
        "count = 0;  \n",
        "word = \"\";  \n",
        "maxCount = 0;  \n",
        "words = [];  \n",
        "file = open(\"data.txt\", \"r\")  \n",
        "for line in file:  \n",
        "    string = line.lower().replace(',','').replace('.','').split(\" \");   \n",
        "    for s in string:  \n",
        "        words.append(s);  \n",
        "for i in range(0, len(words)):  \n",
        "    count = 1;  \n",
        "    for j in range(i+1, len(words)):  \n",
        "        if(words[i] == words[j]):  \n",
        "            count = count + 1;  \n",
        "    if(count > maxCount):  \n",
        "        maxCount = count;  \n",
        "        word = words[i];         \n",
        "print(\"Most repeated word: \" + word);  \n",
        "file.close();  "
      ],
      "metadata": {
        "colab": {
          "base_uri": "https://localhost:8080/"
        },
        "id": "rRCbznM9NJ-l",
        "outputId": "3d928811-337f-48a2-9259-150e458e0b12"
      },
      "execution_count": null,
      "outputs": [
        {
          "output_type": "stream",
          "name": "stdout",
          "text": [
            "Program to find the most frequent words in a text read from a file.\n",
            "\n",
            "Most repeated word: hello\n"
          ]
        }
      ]
    },
    {
      "cell_type": "code",
      "source": [
        "from google.colab import files\n",
        "\n",
        "uploaded = files.upload()"
      ],
      "metadata": {
        "colab": {
          "base_uri": "https://localhost:8080/",
          "height": 142
        },
        "id": "k4PUVBALLZp0",
        "outputId": "5a9ba073-38df-407b-aa67-2886a5988460"
      },
      "execution_count": null,
      "outputs": [
        {
          "output_type": "display_data",
          "data": {
            "text/plain": [
              "<IPython.core.display.HTML object>"
            ],
            "text/html": [
              "\n",
              "     <input type=\"file\" id=\"files-3767c913-9001-449c-9f7f-accc7a080b4b\" name=\"files[]\" multiple disabled\n",
              "        style=\"border:none\" />\n",
              "     <output id=\"result-3767c913-9001-449c-9f7f-accc7a080b4b\">\n",
              "      Upload widget is only available when the cell has been executed in the\n",
              "      current browser session. Please rerun this cell to enable.\n",
              "      </output>\n",
              "      <script>// Copyright 2017 Google LLC\n",
              "//\n",
              "// Licensed under the Apache License, Version 2.0 (the \"License\");\n",
              "// you may not use this file except in compliance with the License.\n",
              "// You may obtain a copy of the License at\n",
              "//\n",
              "//      http://www.apache.org/licenses/LICENSE-2.0\n",
              "//\n",
              "// Unless required by applicable law or agreed to in writing, software\n",
              "// distributed under the License is distributed on an \"AS IS\" BASIS,\n",
              "// WITHOUT WARRANTIES OR CONDITIONS OF ANY KIND, either express or implied.\n",
              "// See the License for the specific language governing permissions and\n",
              "// limitations under the License.\n",
              "\n",
              "/**\n",
              " * @fileoverview Helpers for google.colab Python module.\n",
              " */\n",
              "(function(scope) {\n",
              "function span(text, styleAttributes = {}) {\n",
              "  const element = document.createElement('span');\n",
              "  element.textContent = text;\n",
              "  for (const key of Object.keys(styleAttributes)) {\n",
              "    element.style[key] = styleAttributes[key];\n",
              "  }\n",
              "  return element;\n",
              "}\n",
              "\n",
              "// Max number of bytes which will be uploaded at a time.\n",
              "const MAX_PAYLOAD_SIZE = 100 * 1024;\n",
              "\n",
              "function _uploadFiles(inputId, outputId) {\n",
              "  const steps = uploadFilesStep(inputId, outputId);\n",
              "  const outputElement = document.getElementById(outputId);\n",
              "  // Cache steps on the outputElement to make it available for the next call\n",
              "  // to uploadFilesContinue from Python.\n",
              "  outputElement.steps = steps;\n",
              "\n",
              "  return _uploadFilesContinue(outputId);\n",
              "}\n",
              "\n",
              "// This is roughly an async generator (not supported in the browser yet),\n",
              "// where there are multiple asynchronous steps and the Python side is going\n",
              "// to poll for completion of each step.\n",
              "// This uses a Promise to block the python side on completion of each step,\n",
              "// then passes the result of the previous step as the input to the next step.\n",
              "function _uploadFilesContinue(outputId) {\n",
              "  const outputElement = document.getElementById(outputId);\n",
              "  const steps = outputElement.steps;\n",
              "\n",
              "  const next = steps.next(outputElement.lastPromiseValue);\n",
              "  return Promise.resolve(next.value.promise).then((value) => {\n",
              "    // Cache the last promise value to make it available to the next\n",
              "    // step of the generator.\n",
              "    outputElement.lastPromiseValue = value;\n",
              "    return next.value.response;\n",
              "  });\n",
              "}\n",
              "\n",
              "/**\n",
              " * Generator function which is called between each async step of the upload\n",
              " * process.\n",
              " * @param {string} inputId Element ID of the input file picker element.\n",
              " * @param {string} outputId Element ID of the output display.\n",
              " * @return {!Iterable<!Object>} Iterable of next steps.\n",
              " */\n",
              "function* uploadFilesStep(inputId, outputId) {\n",
              "  const inputElement = document.getElementById(inputId);\n",
              "  inputElement.disabled = false;\n",
              "\n",
              "  const outputElement = document.getElementById(outputId);\n",
              "  outputElement.innerHTML = '';\n",
              "\n",
              "  const pickedPromise = new Promise((resolve) => {\n",
              "    inputElement.addEventListener('change', (e) => {\n",
              "      resolve(e.target.files);\n",
              "    });\n",
              "  });\n",
              "\n",
              "  const cancel = document.createElement('button');\n",
              "  inputElement.parentElement.appendChild(cancel);\n",
              "  cancel.textContent = 'Cancel upload';\n",
              "  const cancelPromise = new Promise((resolve) => {\n",
              "    cancel.onclick = () => {\n",
              "      resolve(null);\n",
              "    };\n",
              "  });\n",
              "\n",
              "  // Wait for the user to pick the files.\n",
              "  const files = yield {\n",
              "    promise: Promise.race([pickedPromise, cancelPromise]),\n",
              "    response: {\n",
              "      action: 'starting',\n",
              "    }\n",
              "  };\n",
              "\n",
              "  cancel.remove();\n",
              "\n",
              "  // Disable the input element since further picks are not allowed.\n",
              "  inputElement.disabled = true;\n",
              "\n",
              "  if (!files) {\n",
              "    return {\n",
              "      response: {\n",
              "        action: 'complete',\n",
              "      }\n",
              "    };\n",
              "  }\n",
              "\n",
              "  for (const file of files) {\n",
              "    const li = document.createElement('li');\n",
              "    li.append(span(file.name, {fontWeight: 'bold'}));\n",
              "    li.append(span(\n",
              "        `(${file.type || 'n/a'}) - ${file.size} bytes, ` +\n",
              "        `last modified: ${\n",
              "            file.lastModifiedDate ? file.lastModifiedDate.toLocaleDateString() :\n",
              "                                    'n/a'} - `));\n",
              "    const percent = span('0% done');\n",
              "    li.appendChild(percent);\n",
              "\n",
              "    outputElement.appendChild(li);\n",
              "\n",
              "    const fileDataPromise = new Promise((resolve) => {\n",
              "      const reader = new FileReader();\n",
              "      reader.onload = (e) => {\n",
              "        resolve(e.target.result);\n",
              "      };\n",
              "      reader.readAsArrayBuffer(file);\n",
              "    });\n",
              "    // Wait for the data to be ready.\n",
              "    let fileData = yield {\n",
              "      promise: fileDataPromise,\n",
              "      response: {\n",
              "        action: 'continue',\n",
              "      }\n",
              "    };\n",
              "\n",
              "    // Use a chunked sending to avoid message size limits. See b/62115660.\n",
              "    let position = 0;\n",
              "    do {\n",
              "      const length = Math.min(fileData.byteLength - position, MAX_PAYLOAD_SIZE);\n",
              "      const chunk = new Uint8Array(fileData, position, length);\n",
              "      position += length;\n",
              "\n",
              "      const base64 = btoa(String.fromCharCode.apply(null, chunk));\n",
              "      yield {\n",
              "        response: {\n",
              "          action: 'append',\n",
              "          file: file.name,\n",
              "          data: base64,\n",
              "        },\n",
              "      };\n",
              "\n",
              "      let percentDone = fileData.byteLength === 0 ?\n",
              "          100 :\n",
              "          Math.round((position / fileData.byteLength) * 100);\n",
              "      percent.textContent = `${percentDone}% done`;\n",
              "\n",
              "    } while (position < fileData.byteLength);\n",
              "  }\n",
              "\n",
              "  // All done.\n",
              "  yield {\n",
              "    response: {\n",
              "      action: 'complete',\n",
              "    }\n",
              "  };\n",
              "}\n",
              "\n",
              "scope.google = scope.google || {};\n",
              "scope.google.colab = scope.google.colab || {};\n",
              "scope.google.colab._files = {\n",
              "  _uploadFiles,\n",
              "  _uploadFilesContinue,\n",
              "};\n",
              "})(self);\n",
              "</script> "
            ]
          },
          "metadata": {}
        },
        {
          "output_type": "stream",
          "name": "stdout",
          "text": [
            "Saving data.txt to data.txt\n",
            "Saving file1.txt to file1.txt\n",
            "Saving file2.txt to file2.txt\n"
          ]
        }
      ]
    }
  ]
}