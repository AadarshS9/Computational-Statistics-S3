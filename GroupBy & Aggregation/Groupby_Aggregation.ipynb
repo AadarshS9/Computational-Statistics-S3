{
  "nbformat": 4,
  "nbformat_minor": 0,
  "metadata": {
    "colab": {
      "provenance": [],
      "authorship_tag": "ABX9TyMHzYijZH0QqTyjjdbcJTyl",
      "include_colab_link": true
    },
    "kernelspec": {
      "name": "python3",
      "display_name": "Python 3"
    },
    "language_info": {
      "name": "python"
    }
  },
  "cells": [
    {
      "cell_type": "markdown",
      "metadata": {
        "id": "view-in-github",
        "colab_type": "text"
      },
      "source": [
        "<a href=\"https://colab.research.google.com/github/AadarshS9/Computational-Statistics-S3/blob/main/Groupby_Aggregation.ipynb\" target=\"_parent\"><img src=\"https://colab.research.google.com/assets/colab-badge.svg\" alt=\"Open In Colab\"/></a>"
      ]
    },
    {
      "cell_type": "code",
      "execution_count": 40,
      "metadata": {
        "colab": {
          "base_uri": "https://localhost:8080/"
        },
        "id": "ppcfskbZIwEJ",
        "outputId": "f290ca49-d9b7-4ad4-ec9c-4e4e00756bef"
      },
      "outputs": [
        {
          "output_type": "stream",
          "name": "stdout",
          "text": [
            "      Team  Rank  Year  Points\n",
            "0   Riders     1  2014     876\n",
            "1   Riders     2  2015     789\n",
            "2   Devils     2  2014     863\n",
            "3   Devils     3  2015     673\n",
            "4    Kings     3  2014     741\n",
            "5    Kings     4  2015     812\n",
            "6    Kings     1  2016     756\n",
            "7    Kings     1  2017     788\n",
            "8   Riders     2  2016     694\n",
            "9   Royals     4  2014     701\n",
            "10  Royals     1  2015     804\n",
            "11  Riders     2  2017     690\n",
            "\n",
            "\n",
            "{'Devils': [2, 3], 'Kings': [4, 5, 6, 7], 'Riders': [0, 1, 8, 11], 'Royals': [9, 10]}\n",
            "\n",
            "\n",
            "{('Devils', 2014): [2], ('Devils', 2015): [3], ('Kings', 2014): [4], ('Kings', 2015): [5], ('Kings', 2016): [6], ('Kings', 2017): [7], ('Riders', 2014): [0], ('Riders', 2015): [1], ('Riders', 2016): [8], ('Riders', 2017): [11], ('Royals', 2014): [9], ('Royals', 2015): [10]}\n",
            "\n",
            "\n",
            "{}\n"
          ]
        }
      ],
      "source": [
        "import pandas as pd\n",
        "ipl_data={'Team':['Riders', 'Riders', 'Devils', 'Devils', 'Kings','Kings', 'Kings', 'Kings', 'Riders', 'Royals', 'Royals', 'Riders'],'Rank': [1, 2, 2, 3, 3,4 ,1 ,1,2 , 4,1,2],'Year':[2014,2015,2014,2015,2014,2015,2016,2017,2016,2014,2015,2017],'Points':[876,789,863,673,741,812,756,788,694,701,804,690]}\n",
        "df = pd.DataFrame(ipl_data)\n",
        "print(df)\n",
        "print(\"\\n\")\n",
        "print(df.groupby('Team').groups)\n",
        "print(\"\\n\")\n",
        "print(df.groupby(['Team','Year']).groups)\n",
        "print(\"\\n\")\n",
        "print(df.groupby(['Rank'],axis=1).groups)"
      ]
    },
    {
      "cell_type": "code",
      "source": [],
      "metadata": {
        "id": "0MLJhrk_RGI4"
      },
      "execution_count": null,
      "outputs": []
    },
    {
      "cell_type": "code",
      "source": [
        "import pandas as pd\n",
        "dataframe = pd.DataFrame({'id': [7058, 4511, 7014, 7033],'name': ['sravan', 'manoj', 'aditya', 'bhanu'],'Maths_marks': [99, 97, 88, 90],'Chemistry_marks': [89, 99, 99, 90],'telugu_marks': [99, 97, 88, 80],'hindi_marks': [99, 97, 56, 67],'social_marks': [79, 97, 78, 90], })\n",
        "print(dataframe)\n",
        "print(\"\\n\")\n",
        "print(dataframe.describe())\n",
        "print(\"\\n\")\n",
        "print(dataframe['Maths_marks'].unique())\n",
        "print(\"\\n\")\n",
        "print(dataframe['Maths_marks'].nunique())\n",
        "print(\"\\n\")\n",
        "print(dataframe.columns)\n",
        "print(\"\\n\")\n",
        "print(dataframe.info())"
      ],
      "metadata": {
        "colab": {
          "base_uri": "https://localhost:8080/"
        },
        "id": "htQIA9pOLrTO",
        "outputId": "0be245a6-3c54-4218-bf37-62102f14b0f9"
      },
      "execution_count": 20,
      "outputs": [
        {
          "output_type": "stream",
          "name": "stdout",
          "text": [
            "     id    name  Maths_marks  Chemistry_marks  telugu_marks  hindi_marks  \\\n",
            "0  7058  sravan           99               89            99           99   \n",
            "1  4511   manoj           97               99            97           97   \n",
            "2  7014  aditya           88               99            88           56   \n",
            "3  7033   bhanu           90               90            80           67   \n",
            "\n",
            "   social_marks  \n",
            "0            79  \n",
            "1            97  \n",
            "2            78  \n",
            "3            90  \n",
            "\n",
            "\n",
            "                id  Maths_marks  Chemistry_marks  telugu_marks  hindi_marks  \\\n",
            "count     4.000000     4.000000             4.00       4.00000     4.000000   \n",
            "mean   6404.000000    93.500000            94.25      91.00000    79.750000   \n",
            "std    1262.128625     5.322906             5.50       8.75595    21.561926   \n",
            "min    4511.000000    88.000000            89.00      80.00000    56.000000   \n",
            "25%    6388.250000    89.500000            89.75      86.00000    64.250000   \n",
            "50%    7023.500000    93.500000            94.50      92.50000    82.000000   \n",
            "75%    7039.250000    97.500000            99.00      97.50000    97.500000   \n",
            "max    7058.000000    99.000000            99.00      99.00000    99.000000   \n",
            "\n",
            "       social_marks  \n",
            "count      4.000000  \n",
            "mean      86.000000  \n",
            "std        9.128709  \n",
            "min       78.000000  \n",
            "25%       78.750000  \n",
            "50%       84.500000  \n",
            "75%       91.750000  \n",
            "max       97.000000  \n",
            "\n",
            "\n",
            "[99 97 88 90]\n",
            "\n",
            "\n",
            "4\n",
            "\n",
            "\n",
            "Index(['id', 'name', 'Maths_marks', 'Chemistry_marks', 'telugu_marks',\n",
            "       'hindi_marks', 'social_marks'],\n",
            "      dtype='object')\n",
            "\n",
            "\n",
            "<class 'pandas.core.frame.DataFrame'>\n",
            "RangeIndex: 4 entries, 0 to 3\n",
            "Data columns (total 7 columns):\n",
            " #   Column           Non-Null Count  Dtype \n",
            "---  ------           --------------  ----- \n",
            " 0   id               4 non-null      int64 \n",
            " 1   name             4 non-null      object\n",
            " 2   Maths_marks      4 non-null      int64 \n",
            " 3   Chemistry_marks  4 non-null      int64 \n",
            " 4   telugu_marks     4 non-null      int64 \n",
            " 5   hindi_marks      4 non-null      int64 \n",
            " 6   social_marks     4 non-null      int64 \n",
            "dtypes: int64(6), object(1)\n",
            "memory usage: 352.0+ bytes\n",
            "None\n"
          ]
        }
      ]
    },
    {
      "cell_type": "code",
      "source": [
        "import pandas as pd\n",
        "import numpy as np\n",
        "dataframe = pd.DataFrame({'id': [7058, 4511, 7014, 7033],'name': ['sravan', 'manoj', 'aditya', 'bhanu'],'Maths_marks': [99, 97, 88, 90],'Chemistry_marks': [89, 99, 99, 90],'telugu_marks': [99, 97, 88, 80],'hindi_marks': [99, 97, 56, 67],'social_marks': [79, 97, 78, 90], })\n",
        "print(dataframe)\n",
        "print(\"\\n\")\n",
        "print(dataframe.min())\n",
        "print(\"\\n\")\n",
        "print(dataframe['Maths_marks'].min())\n",
        "print(\"\\n\")\n",
        "print(dataframe.max())\n",
        "print(\"\\n\")\n",
        "print(dataframe.sum())\n",
        "print(\"\\n\")\n",
        "print(dataframe.count())\n",
        "print(\"\\n\")\n",
        "print(dataframe.std())\n",
        "print(\"\\n\")\n",
        "print(dataframe.var())"
      ],
      "metadata": {
        "colab": {
          "base_uri": "https://localhost:8080/"
        },
        "id": "cvCO4hYgNBPI",
        "outputId": "f35d62aa-fba9-4d95-b228-8e603501301b"
      },
      "execution_count": 23,
      "outputs": [
        {
          "output_type": "stream",
          "name": "stdout",
          "text": [
            "     id    name  Maths_marks  Chemistry_marks  telugu_marks  hindi_marks  \\\n",
            "0  7058  sravan           99               89            99           99   \n",
            "1  4511   manoj           97               99            97           97   \n",
            "2  7014  aditya           88               99            88           56   \n",
            "3  7033   bhanu           90               90            80           67   \n",
            "\n",
            "   social_marks  \n",
            "0            79  \n",
            "1            97  \n",
            "2            78  \n",
            "3            90  \n",
            "\n",
            "\n",
            "id                   4511\n",
            "name               aditya\n",
            "Maths_marks            88\n",
            "Chemistry_marks        89\n",
            "telugu_marks           80\n",
            "hindi_marks            56\n",
            "social_marks           78\n",
            "dtype: object\n",
            "\n",
            "\n",
            "88\n",
            "\n",
            "\n",
            "id                   7058\n",
            "name               sravan\n",
            "Maths_marks            99\n",
            "Chemistry_marks        99\n",
            "telugu_marks           99\n",
            "hindi_marks            99\n",
            "social_marks           97\n",
            "dtype: object\n",
            "\n",
            "\n",
            "id                                  25616\n",
            "name               sravanmanojadityabhanu\n",
            "Maths_marks                           374\n",
            "Chemistry_marks                       377\n",
            "telugu_marks                          364\n",
            "hindi_marks                           319\n",
            "social_marks                          344\n",
            "dtype: object\n",
            "\n",
            "\n",
            "id                 4\n",
            "name               4\n",
            "Maths_marks        4\n",
            "Chemistry_marks    4\n",
            "telugu_marks       4\n",
            "hindi_marks        4\n",
            "social_marks       4\n",
            "dtype: int64\n",
            "\n",
            "\n",
            "id                 1262.128625\n",
            "Maths_marks           5.322906\n",
            "Chemistry_marks       5.500000\n",
            "telugu_marks          8.755950\n",
            "hindi_marks          21.561926\n",
            "social_marks          9.128709\n",
            "dtype: float64\n",
            "\n",
            "\n",
            "id                 1.592969e+06\n",
            "Maths_marks        2.833333e+01\n",
            "Chemistry_marks    3.025000e+01\n",
            "telugu_marks       7.666667e+01\n",
            "hindi_marks        4.649167e+02\n",
            "social_marks       8.333333e+01\n",
            "dtype: float64\n"
          ]
        },
        {
          "output_type": "stream",
          "name": "stderr",
          "text": [
            "<ipython-input-23-2d4b9b11053e>:16: FutureWarning: Dropping of nuisance columns in DataFrame reductions (with 'numeric_only=None') is deprecated; in a future version this will raise TypeError.  Select only valid columns before calling the reduction.\n",
            "  print(dataframe.std())\n",
            "<ipython-input-23-2d4b9b11053e>:18: FutureWarning: Dropping of nuisance columns in DataFrame reductions (with 'numeric_only=None') is deprecated; in a future version this will raise TypeError.  Select only valid columns before calling the reduction.\n",
            "  print(dataframe.var())\n"
          ]
        }
      ]
    },
    {
      "cell_type": "code",
      "source": [
        "import pandas as pd\n",
        "import numpy as np\n",
        "ipl_data = {'Team': ['Riders', 'Riders', 'Devils', 'Devils', 'Kings','Kings', 'Kings', 'Kings', 'Riders', 'Royals', 'Royals', 'Riders'],'Rank': [1, 2, 2, 3, 3,4 ,1 ,1,2 , 4,1,2],'Year': [2014,2015,2014,2015,2014,2015,2016,2017,2016,2014,2015,2017],'Points':[876,789,863,673,741,812,756,788,694,701,804,690]}\n",
        "df = pd.DataFrame(ipl_data)\n",
        "grouped = df.groupby('Year')\n",
        "print(grouped['Points'].agg(np.mean))\n",
        "print(\"\\n\")\n",
        "grouped = df.groupby('Team')\n",
        "print(grouped.agg(np.size))\n",
        "print(\"\\n\")\n",
        "grouped = df.groupby('Team')\n",
        "print(grouped['Points'].agg([np.sum, np.mean, np.std]))"
      ],
      "metadata": {
        "colab": {
          "base_uri": "https://localhost:8080/"
        },
        "id": "zWGJGJHnOGhn",
        "outputId": "5823cc95-0920-4555-d74e-9b427aaacf49"
      },
      "execution_count": 41,
      "outputs": [
        {
          "output_type": "stream",
          "name": "stdout",
          "text": [
            "Year\n",
            "2014    795.25\n",
            "2015    769.50\n",
            "2016    725.00\n",
            "2017    739.00\n",
            "Name: Points, dtype: float64\n",
            "\n",
            "\n",
            "        Rank  Year  Points\n",
            "Team                      \n",
            "Devils     2     2       2\n",
            "Kings      4     4       4\n",
            "Riders     4     4       4\n",
            "Royals     2     2       2\n",
            "\n",
            "\n",
            "         sum    mean         std\n",
            "Team                            \n",
            "Devils  1536  768.00  134.350288\n",
            "Kings   3097  774.25   31.899582\n",
            "Riders  3049  762.25   88.567771\n",
            "Royals  1505  752.50   72.831998\n"
          ]
        }
      ]
    },
    {
      "cell_type": "code",
      "source": [
        "import pandas as pd\n",
        "import numpy as np\n",
        "ipl_data = {'Team': ['Riders', 'Riders', 'Devils', 'Devils', 'Kings','kings', 'Kings', 'Kings', 'Riders', 'Royals', 'Royals', 'Riders'],'Rank': [1, 2, 2, 3, 3,4 ,1 ,1,2 , 4,1,2],'Year': [2014,2015,2014,2015,2014,2015,2016,2017,2016,2014,2015,2017],'Points':[876,789,863,673,741,812,756,788,694,701,804,690]}\n",
        "df = pd.DataFrame(ipl_data)\n",
        "print(df)\n",
        "print(\"\\n\")\n",
        "grouped = df.groupby('Team')\n",
        "score = lambda x: (x - x.mean()) / x.std()*10\n",
        "print(grouped.transform(score))"
      ],
      "metadata": {
        "colab": {
          "base_uri": "https://localhost:8080/"
        },
        "id": "i6OkMYKSRJbB",
        "outputId": "05abe6b0-0f5b-47fd-9d6f-c67f96caf937"
      },
      "execution_count": 44,
      "outputs": [
        {
          "output_type": "stream",
          "name": "stdout",
          "text": [
            "      Team  Rank  Year  Points\n",
            "0   Riders     1  2014     876\n",
            "1   Riders     2  2015     789\n",
            "2   Devils     2  2014     863\n",
            "3   Devils     3  2015     673\n",
            "4    Kings     3  2014     741\n",
            "5    kings     4  2015     812\n",
            "6    Kings     1  2016     756\n",
            "7    Kings     1  2017     788\n",
            "8   Riders     2  2016     694\n",
            "9   Royals     4  2014     701\n",
            "10  Royals     1  2015     804\n",
            "11  Riders     2  2017     690\n",
            "\n",
            "\n",
            "         Rank       Year     Points\n",
            "0  -15.000000 -11.618950  12.843272\n",
            "1    5.000000  -3.872983   3.020286\n",
            "2   -7.071068  -7.071068   7.071068\n",
            "3    7.071068   7.071068  -7.071068\n",
            "4   11.547005 -10.910895  -8.608621\n",
            "5         NaN        NaN        NaN\n",
            "6   -5.773503   2.182179  -2.360428\n",
            "7   -5.773503   8.728716  10.969049\n",
            "8    5.000000   3.872983  -7.705963\n",
            "9    7.071068  -7.071068  -7.071068\n",
            "10  -7.071068   7.071068   7.071068\n",
            "11   5.000000  11.618950  -8.157595\n"
          ]
        }
      ]
    },
    {
      "cell_type": "code",
      "source": [
        "import pandas as pd\n",
        "dataframe = pd.DataFrame({'id': [7058, 4511, 7014, 7033],'name': ['sravan', 'manoj', 'aditya', 'bhanu'],'Maths_marks': [99, 97, 88, 90],'Chemistry_marks': [89, 99, 99, 90],'telugu_marks': [99, 97, 88, 80],'hindi_marks': [99, 97, 56, 67],'social_marks': [79, 97, 78, 90], })\n",
        "print(dataframe.groupby('name').first())\n",
        "print(\"---------------------------------\")\n",
        "# group by name with social_marks sum\n",
        "print(dataframe.groupby('name')['social_marks'].sum())\n",
        "print(\"---------------------------------\")\n",
        "# group by name with maths_marks count\n",
        "print(dataframe.groupby('name')['Maths_marks'].count())\n",
        "print(\"---------------------------------\")\n",
        "# group by name with maths_marks\n",
        "print(dataframe.groupby('name')['Maths_marks'].sum())"
      ],
      "metadata": {
        "colab": {
          "base_uri": "https://localhost:8080/"
        },
        "id": "gIrHOHsAR0UI",
        "outputId": "98d579e7-b7ca-4aad-8f64-e79c517923fa"
      },
      "execution_count": 49,
      "outputs": [
        {
          "output_type": "stream",
          "name": "stdout",
          "text": [
            "          id  Maths_marks  Chemistry_marks  telugu_marks  hindi_marks  \\\n",
            "name                                                                    \n",
            "aditya  7014           88               99            88           56   \n",
            "bhanu   7033           90               90            80           67   \n",
            "manoj   4511           97               99            97           97   \n",
            "sravan  7058           99               89            99           99   \n",
            "\n",
            "        social_marks  \n",
            "name                  \n",
            "aditya            78  \n",
            "bhanu             90  \n",
            "manoj             97  \n",
            "sravan            79  \n",
            "---------------------------------\n",
            "name\n",
            "aditya    78\n",
            "bhanu     90\n",
            "manoj     97\n",
            "sravan    79\n",
            "Name: social_marks, dtype: int64\n",
            "---------------------------------\n",
            "name\n",
            "aditya    1\n",
            "bhanu     1\n",
            "manoj     1\n",
            "sravan    1\n",
            "Name: Maths_marks, dtype: int64\n",
            "---------------------------------\n",
            "name\n",
            "aditya    88\n",
            "bhanu     90\n",
            "manoj     97\n",
            "sravan    99\n",
            "Name: Maths_marks, dtype: int64\n"
          ]
        }
      ]
    }
  ]
}
