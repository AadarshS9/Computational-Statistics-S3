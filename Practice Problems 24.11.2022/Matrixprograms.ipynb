{
  "nbformat": 4,
  "nbformat_minor": 0,
  "metadata": {
    "colab": {
      "provenance": [],
      "authorship_tag": "ABX9TyM+as4+CFPJnAhEMz9tJufh",
      "include_colab_link": true
    },
    "kernelspec": {
      "name": "python3",
      "display_name": "Python 3"
    },
    "language_info": {
      "name": "python"
    }
  },
  "cells": [
    {
      "cell_type": "markdown",
      "metadata": {
        "id": "view-in-github",
        "colab_type": "text"
      },
      "source": [
        "<a href=\"https://colab.research.google.com/github/AadarshS9/Computational-Statistics-S3/blob/main/Matrixprograms.ipynb\" target=\"_parent\"><img src=\"https://colab.research.google.com/assets/colab-badge.svg\" alt=\"Open In Colab\"/></a>"
      ]
    },
    {
      "cell_type": "code",
      "execution_count": null,
      "metadata": {
        "colab": {
          "base_uri": "https://localhost:8080/"
        },
        "id": "6oBRlmc7BFCN",
        "outputId": "c0d12fd2-a621-4b83-dc70-353bf66d86b3"
      },
      "outputs": [
        {
          "output_type": "stream",
          "name": "stdout",
          "text": [
            "Matrix 1: \n",
            "[12, 7, 3]\n",
            "[4, 5, 6]\n",
            "[7, 8, 9]\n",
            "\n",
            "\n",
            "Matrix 2: \n",
            "[5, 8, 1]\n",
            "[6, 7, 3]\n",
            "[4, 5, 9]\n",
            "\n",
            "\n",
            "Sum of Matrix 1 and Matrix 2: \n",
            "[17, 15, 4]\n",
            "[10, 12, 9]\n",
            "[11, 13, 18]\n"
          ]
        }
      ],
      "source": [
        "#Program to add two matrices using nested loop\n",
        "X = [[12,7,3],\n",
        "[4 ,5,6],\n",
        "[7 ,8,9]]\n",
        "\n",
        "Y = [[5,8,1],\n",
        "[6,7,3],\n",
        "[4,5,9]]\n",
        "\n",
        "result = [[0,0,0],\n",
        "[0,0,0],\n",
        "[0,0,0]]\n",
        "\n",
        "# iterate through rows\n",
        "for i in range(len(X)):\n",
        "# iterate through columns\n",
        "  for j in range(len(X[0])):\n",
        "    result[i][j] = X[i][j] + Y[i][j]\n",
        "\n",
        "print(\"Matrix 1: \")\n",
        "for r in X:\n",
        "  print(r)\n",
        "print(\"\\n\")\n",
        "\n",
        "print(\"Matrix 2: \")\n",
        "for r in Y:\n",
        "  print(r)\n",
        "print(\"\\n\")\n",
        "\n",
        "print(\"Sum of Matrix 1 and Matrix 2: \")\n",
        "for r in result:\n",
        "  print(r)"
      ]
    },
    {
      "cell_type": "code",
      "source": [
        "#Program to transpose a matrix using a nested loop\n",
        "X = [[12,7],\n",
        "[4 ,5],\n",
        "[3 ,8]]\n",
        "\n",
        "print(\"Original Matrix: \")\n",
        "for r in X:\n",
        "  print(r)\n",
        "print(\"\\n\")\n",
        "\n",
        "result = [[0,0,0],\n",
        "[0,0,0]]\n",
        "\n",
        "# iterate through rows\n",
        "for i in range(len(X)):\n",
        "# iterate through columns\n",
        "  for j in range(len(X[0])):\n",
        "    result[j][i] = X[i][j]\n",
        "\n",
        "print(\"Transpose Matrix: \")\n",
        "for r in result:\n",
        "  print(r)"
      ],
      "metadata": {
        "colab": {
          "base_uri": "https://localhost:8080/"
        },
        "id": "9uZpzQaEEVN3",
        "outputId": "a8f20cf4-283f-4f12-aee6-a87966e7255c"
      },
      "execution_count": null,
      "outputs": [
        {
          "output_type": "stream",
          "name": "stdout",
          "text": [
            "Original Matrix: \n",
            "[12, 7]\n",
            "[4, 5]\n",
            "[3, 8]\n",
            "\n",
            "\n",
            "Transpose Matrix: \n",
            "[12, 4, 3]\n",
            "[7, 5, 8]\n"
          ]
        }
      ]
    },
    {
      "cell_type": "code",
      "source": [
        "#Program to multiply two matrices using nested loops\n",
        "# 3x3 matrix\n",
        "X = [[12,7,3],\n",
        "[4 ,5,6],\n",
        "[7 ,8,9]]\n",
        "\n",
        "print(\"Matrix 1: \")\n",
        "for r in X:\n",
        "  print(r)\n",
        "print(\"\\n\")\n",
        "\n",
        "# 3x4 matrix\n",
        "Y = [[5,8,1,2],\n",
        "[6,7,3,0],\n",
        "[4,5,9,1]]\n",
        "\n",
        "print(\"Matrix 2: \")\n",
        "for r in Y:\n",
        "  print(r)\n",
        "print(\"\\n\")\n",
        "\n",
        "# result is 3x4\n",
        "result = [[0,0,0,0],\n",
        "[0,0,0,0],\n",
        "[0,0,0,0]]\n",
        "\n",
        "# iterate through rows of X\n",
        "for i in range(len(X)):\n",
        "# iterate through columns of Y\n",
        "  for j in range(len(Y[0])):\n",
        "# iterate through rows of Y\n",
        "    for k in range(len(Y)):\n",
        "\n",
        "      result[i][j] += X[i][k] * Y[k][j]\n",
        "print(\"Multiplication of two matrices: \")\n",
        "for r in result:\n",
        "  print(r)"
      ],
      "metadata": {
        "colab": {
          "base_uri": "https://localhost:8080/"
        },
        "id": "f9AdzZVCE3uc",
        "outputId": "61acf95b-441b-4fbe-b167-c078f81d4674"
      },
      "execution_count": null,
      "outputs": [
        {
          "output_type": "stream",
          "name": "stdout",
          "text": [
            "Matrix 1: \n",
            "[12, 7, 3]\n",
            "[4, 5, 6]\n",
            "[7, 8, 9]\n",
            "\n",
            "\n",
            "Matrix 2: \n",
            "[5, 8, 1, 2]\n",
            "[6, 7, 3, 0]\n",
            "[4, 5, 9, 1]\n",
            "\n",
            "\n",
            "Multiplication of two matrices: \n",
            "[114, 160, 60, 27]\n",
            "[74, 97, 73, 14]\n",
            "[119, 157, 112, 23]\n"
          ]
        }
      ]
    }
  ]
}
