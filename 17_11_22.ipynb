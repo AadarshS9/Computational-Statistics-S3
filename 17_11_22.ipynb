{
  "nbformat": 4,
  "nbformat_minor": 0,
  "metadata": {
    "colab": {
      "provenance": [],
      "authorship_tag": "ABX9TyOajwKOh2aU7lnYsjLMitzR",
      "include_colab_link": true
    },
    "kernelspec": {
      "name": "python3",
      "display_name": "Python 3"
    },
    "language_info": {
      "name": "python"
    }
  },
  "cells": [
    {
      "cell_type": "markdown",
      "metadata": {
        "id": "view-in-github",
        "colab_type": "text"
      },
      "source": [
        "<a href=\"https://colab.research.google.com/github/AadarshS9/Computational-Statistics-S3/blob/main/17_11_22.ipynb\" target=\"_parent\"><img src=\"https://colab.research.google.com/assets/colab-badge.svg\" alt=\"Open In Colab\"/></a>"
      ]
    },
    {
      "cell_type": "code",
      "execution_count": null,
      "metadata": {
        "colab": {
          "base_uri": "https://localhost:8080/"
        },
        "id": "qC-ffoZtxcjZ",
        "outputId": "3112a25d-b5f7-426e-ca82-77cb4e452d91"
      },
      "outputs": [
        {
          "output_type": "stream",
          "name": "stdout",
          "text": [
            "Program to accept two numbers from the user and perform multiplication\n",
            "\n",
            "Kindly enter the first number: 6\n",
            "Kindly enter the second number: 3\n",
            "\n",
            "The result of 6 * 3 is: 18\n"
          ]
        }
      ],
      "source": [
        "#1\n",
        "print('Program to accept two numbers from the user and perform multiplication\\n')\n",
        "num1=int(input(\"Kindly enter the first number: \"))\n",
        "num2=int(input(\"Kindly enter the second number: \"))\n",
        "result=num1*num2\n",
        "print(\"\\nThe result of\",num1,\"*\",num2,\"is:\",result)"
      ]
    },
    {
      "cell_type": "code",
      "source": [
        "#2\n",
        "print('Program to print all prime numbers within an interval\\n')\n",
        "s=int(input(\"Kindly enter value of starting range: \"))\n",
        "e=int(input(\"Kindly enter value of ending range: \"))\n",
        "print(\"\\nThe Prime Numbers in the given interval range from \",s,\" to \",e,\" are: \")  \n",
        "for number in range (s,e + 1):  \n",
        "    if number>1:  \n",
        "        for i in range (2, number):  \n",
        "            if (number%i)==0:  \n",
        "                break  \n",
        "        else:  \n",
        "            print (number) "
      ],
      "metadata": {
        "colab": {
          "base_uri": "https://localhost:8080/"
        },
        "id": "4wQY5Mtty0Bq",
        "outputId": "f69fdc7e-c9e9-4820-c5ec-a3ff54604309"
      },
      "execution_count": null,
      "outputs": [
        {
          "output_type": "stream",
          "name": "stdout",
          "text": [
            "Program to print all prime numbers within an interval\n",
            "\n",
            "Kindly enter value of starting range: 1\n",
            "Kindly enter value of ending range: 10\n",
            "\n",
            "The Prime Numbers in the given interval range from  1  to  10  are: \n",
            "2\n",
            "3\n",
            "5\n",
            "7\n"
          ]
        }
      ]
    },
    {
      "cell_type": "code",
      "source": [
        "#3\n",
        "print('Program to search an element in a list\\n')\n",
        "n=int(input(\"Kindly enter size of list: \"))\n",
        "list = []\n",
        "for i in range(0,n):\n",
        "  entry=int(input(\"Kindly enter element: \"))\n",
        "  list.append(entry)\n",
        "s=int(input(\"\\nKindly enter element to search for: \"))\n",
        "for i in range(0,n):\n",
        "  if s==list[i]:\n",
        "    print('Element ',s,' found at position ',i+1)\n",
        "    break\n",
        "if list[i]!=s and i+1==n:\n",
        "  print('Element ',s,' not present in list')\n"
      ],
      "metadata": {
        "colab": {
          "base_uri": "https://localhost:8080/"
        },
        "id": "vOUA6nytzw-S",
        "outputId": "8ee5cb36-2373-438a-c1a5-de34373beb78"
      },
      "execution_count": null,
      "outputs": [
        {
          "output_type": "stream",
          "name": "stdout",
          "text": [
            "Program to search an element in a list\n",
            "\n",
            "Kindly enter size of list: 3\n",
            "Kindly enter element: 6\n",
            "Kindly enter element: 9\n",
            "Kindly enter element: 11\n",
            "\n",
            "Kindly enter element to search for: 9\n",
            "Element  9  found at position  2\n"
          ]
        }
      ]
    },
    {
      "cell_type": "code",
      "source": [
        "#4\n",
        "print('Program to find the number of occurrences of a given substring in a string\\n')\n",
        "str=(input(\"Kindly enter string: \"))\n",
        "substr=(input(\"Kindly enter substring to count the number of occurences: \"))\n",
        "count = str.count(substr)\n",
        "print(\"The number of occurences of \",substr,\" is: \",count)"
      ],
      "metadata": {
        "colab": {
          "base_uri": "https://localhost:8080/"
        },
        "id": "HS3b8aO01zl4",
        "outputId": "8c9b7b5c-d48c-43d3-e61e-74a3d9b4fe40"
      },
      "execution_count": null,
      "outputs": [
        {
          "output_type": "stream",
          "name": "stdout",
          "text": [
            "Program to find the number of occurrences of a given substring in a string\n",
            "\n",
            "Kindly enter string: racecar carrace\n",
            "Kindly enter substring to count the number of occurences: car\n",
            "The number of occurences of  car  is:  2\n"
          ]
        }
      ]
    },
    {
      "cell_type": "code",
      "source": [
        "#5\n",
        "print('Program to implement calculator with functions like add, subtract, multiply, divide, exponent etc\\n')\n",
        "print('      CALCULATOR MENU')\n",
        "print('1.Add          \\t2.Subtract\\n3.Multiply\\t4.Divide\\n5.Exponent\\t6.Exit\\n')\n",
        "while True:\n",
        "  choice=int(input(\"Kindly enter your choice: \"))\n",
        "  if choice == 1:\n",
        "    num1 = float(input(\"Kindly enter first number: \"))\n",
        "    num2 = float(input(\"Kindly enter second number: \"))\n",
        "    print(num1, \"+\", num2, \"=\", num1+num2,\"\\n\")\n",
        "\n",
        "  elif choice == 2:\n",
        "    num1 = float(input(\"Kindly enter first number: \"))\n",
        "    num2 = float(input(\"Kindly enter second number: \"))\n",
        "    print(num1, \"-\", num2, \"=\", num1-num2,\"\\n\")\n",
        "\n",
        "  elif choice == 3:\n",
        "    num1 = float(input(\"Kindly enter first number: \"))\n",
        "    num2 = float(input(\"Kindly enter second number: \"))\n",
        "    print(num1, \"*\", num2, \"=\", num1*num2,\"\\n\")\n",
        "\n",
        "  elif choice == 4:\n",
        "    num1 = float(input(\"Kindly enter first number: \"))\n",
        "    num2 = float(input(\"Kindly enter second number: \"))\n",
        "    print(num1, \"/\", num2, \"=\", num1/num2,\"\\n\")\n",
        "\n",
        "  elif choice == 5:\n",
        "    num1 = float(input(\"Kindly enter base number: \"))\n",
        "    num2 = float(input(\"Kindly enter power number: \"))\n",
        "    print(num1, \"^\", num2, \"=\", num1**num2,\"\\n\")\n",
        "\n",
        "  elif choice == 6:\n",
        "    print('Succesfully exiting program\\nThank you')\n",
        "    break\n",
        "  \n",
        "  else:\n",
        "    print('Invalid Choice\\n')"
      ],
      "metadata": {
        "colab": {
          "base_uri": "https://localhost:8080/"
        },
        "id": "O1rXE9jJ3ndo",
        "outputId": "0a4d37b9-de1f-487e-dfaa-3de569b9c36e"
      },
      "execution_count": null,
      "outputs": [
        {
          "output_type": "stream",
          "name": "stdout",
          "text": [
            "Program to implement calculator with functions like add, subtract, multiply, divide, exponent etc.\n",
            "\n",
            "      CALCULATOR MENU\n",
            "1.Add          \t2.Subtract\n",
            "3.Multiply\t4.Divide\n",
            "5.Exponent\t6.Exit\n",
            "\n",
            "Kindly enter your choice: 5\n",
            "Kindly enter base number: 3\n",
            "Kindly enter power number: 2\n",
            "3.0 ^ 2.0 = 9.0 \n",
            "\n",
            "Kindly enter your choice: 2\n",
            "Kindly enter first number: 5\n",
            "Kindly enter second number: 9\n",
            "5.0 - 9.0 = -4.0 \n",
            "\n",
            "Kindly enter your choice: 4\n",
            "Kindly enter first number: 8\n",
            "Kindly enter second number: 2\n",
            "8.0 / 2.0 = 4.0 \n",
            "\n",
            "Kindly enter your choice: 1\n",
            "Kindly enter first number: 3\n",
            "Kindly enter second number: 11\n",
            "3.0 + 11.0 = 14.0 \n",
            "\n",
            "Kindly enter your choice: 3\n",
            "Kindly enter first number: 3\n",
            "Kindly enter second number: 3\n",
            "3.0 * 3.0 = 9.0 \n",
            "\n",
            "Kindly enter your choice: 7\n",
            "Invalid Choice\n",
            "\n",
            "Kindly enter your choice: 6\n",
            "Succesfully exiting program\n",
            "Thank you\n"
          ]
        }
      ]
    },
    {
      "cell_type": "code",
      "source": [
        "#6\n",
        "print('Program to find factorial of a given number using recursion\\n')\n",
        "def recur_factorial(n):  \n",
        "   if n == 1:  \n",
        "       return n  \n",
        "   else:  \n",
        "       return n*recur_factorial(n-1)  \n",
        "\n",
        "num = int(input(\"Kindly enter a number: \"))  \n",
        "if num < 0:  \n",
        "   print(\"Error, factorial does not exist for negative numbers\")  \n",
        "elif num == 0:  \n",
        "   print(\"The factorial of 0 is 1\")  \n",
        "else:  \n",
        "   print(\"The factorial of\",num,\"is\",recur_factorial(num)) "
      ],
      "metadata": {
        "colab": {
          "base_uri": "https://localhost:8080/"
        },
        "id": "6PL2Rz2q_dVm",
        "outputId": "79501664-ea76-4cf3-e8ab-f7a5f6dc6c5c"
      },
      "execution_count": null,
      "outputs": [
        {
          "output_type": "stream",
          "name": "stdout",
          "text": [
            "Program to find factorial of a given number using recursion\n",
            "\n",
            "Kindly enter a number: 6\n",
            "The factorial of 6 is 720\n"
          ]
        }
      ]
    },
    {
      "cell_type": "code",
      "source": [
        "#7\n",
        "print('Program to return multiple values from a function\\n')\n",
        "def fun():\n",
        "    str = \"return multiple values\"\n",
        "    x   = 1234567890\n",
        "    return str, x;\n",
        "str, x = fun()\n",
        "print(str,x)"
      ],
      "metadata": {
        "colab": {
          "base_uri": "https://localhost:8080/"
        },
        "id": "8-MA8ko7AVWP",
        "outputId": "6390bf39-4ed5-4c2d-ddb5-594b23640180"
      },
      "execution_count": null,
      "outputs": [
        {
          "output_type": "stream",
          "name": "stdout",
          "text": [
            "Program to return multiple values from a function\n",
            "\n",
            "return multiple values 1234567890\n"
          ]
        }
      ]
    },
    {
      "cell_type": "code",
      "source": [
        "#9\n",
        "with open('file1.txt','r') as firstfile, open('file2.txt','w') as secondfile:\n",
        "  for line in firstfile:\n",
        "    if not line.isspace():\n",
        "      secondfile.write(line)"
      ],
      "metadata": {
        "colab": {
          "base_uri": "https://localhost:8080/",
          "height": 235
        },
        "id": "4IdXi27LJDkm",
        "outputId": "152fc057-d1ca-4803-dda6-915bccfce307"
      },
      "execution_count": null,
      "outputs": [
        {
          "output_type": "error",
          "ename": "FileNotFoundError",
          "evalue": "ignored",
          "traceback": [
            "\u001b[0;31m---------------------------------------------------------------------------\u001b[0m",
            "\u001b[0;31mFileNotFoundError\u001b[0m                         Traceback (most recent call last)",
            "\u001b[0;32m<ipython-input-45-ae1c1ed1e89a>\u001b[0m in \u001b[0;36m<module>\u001b[0;34m\u001b[0m\n\u001b[1;32m      1\u001b[0m \u001b[0;31m#10\u001b[0m\u001b[0;34m\u001b[0m\u001b[0;34m\u001b[0m\u001b[0;34m\u001b[0m\u001b[0m\n\u001b[0;32m----> 2\u001b[0;31m \u001b[0;32mwith\u001b[0m \u001b[0mopen\u001b[0m\u001b[0;34m(\u001b[0m\u001b[0;34m'first.txt'\u001b[0m\u001b[0;34m,\u001b[0m\u001b[0;34m'r'\u001b[0m\u001b[0;34m)\u001b[0m \u001b[0;32mas\u001b[0m \u001b[0mfirstfile\u001b[0m\u001b[0;34m,\u001b[0m \u001b[0mopen\u001b[0m\u001b[0;34m(\u001b[0m\u001b[0;34m'second.txt'\u001b[0m\u001b[0;34m,\u001b[0m\u001b[0;34m'w'\u001b[0m\u001b[0;34m)\u001b[0m \u001b[0;32mas\u001b[0m \u001b[0msecondfile\u001b[0m\u001b[0;34m:\u001b[0m\u001b[0;34m\u001b[0m\u001b[0;34m\u001b[0m\u001b[0m\n\u001b[0m\u001b[1;32m      3\u001b[0m   \u001b[0;32mfor\u001b[0m \u001b[0mline\u001b[0m \u001b[0;32min\u001b[0m \u001b[0mfirstfile\u001b[0m\u001b[0;34m:\u001b[0m\u001b[0;34m\u001b[0m\u001b[0;34m\u001b[0m\u001b[0m\n\u001b[1;32m      4\u001b[0m     \u001b[0;32mif\u001b[0m \u001b[0;32mnot\u001b[0m \u001b[0mline\u001b[0m\u001b[0;34m.\u001b[0m\u001b[0misspace\u001b[0m\u001b[0;34m(\u001b[0m\u001b[0;34m)\u001b[0m\u001b[0;34m:\u001b[0m\u001b[0;34m\u001b[0m\u001b[0;34m\u001b[0m\u001b[0m\n\u001b[1;32m      5\u001b[0m       \u001b[0msecondfile\u001b[0m\u001b[0;34m.\u001b[0m\u001b[0mwrite\u001b[0m\u001b[0;34m(\u001b[0m\u001b[0mline\u001b[0m\u001b[0;34m)\u001b[0m\u001b[0;34m\u001b[0m\u001b[0;34m\u001b[0m\u001b[0m\n",
            "\u001b[0;31mFileNotFoundError\u001b[0m: [Errno 2] No such file or directory: 'first.txt'"
          ]
        }
      ]
    },
    {
      "cell_type": "code",
      "source": [
        "print('Program to find the most frequent words in a text read from a file.\\n')\n",
        "count = 0;  \n",
        "word = \"\";  \n",
        "maxCount = 0;  \n",
        "words = [];  \n",
        "file = open(\"data.txt\", \"r\")  \n",
        "for line in file:  \n",
        "    string = line.lower().replace(',','').replace('.','').split(\" \");   \n",
        "    for s in string:  \n",
        "        words.append(s);  \n",
        "for i in range(0, len(words)):  \n",
        "    count = 1;  \n",
        "    for j in range(i+1, len(words)):  \n",
        "        if(words[i] == words[j]):  \n",
        "            count = count + 1;  \n",
        "    if(count > maxCount):  \n",
        "        maxCount = count;  \n",
        "        word = words[i];         \n",
        "print(\"Most repeated word: \" + word);  \n",
        "file.close();  "
      ],
      "metadata": {
        "colab": {
          "base_uri": "https://localhost:8080/",
          "height": 269
        },
        "id": "rRCbznM9NJ-l",
        "outputId": "7336220d-deca-4901-b479-6ca86d422fb4"
      },
      "execution_count": null,
      "outputs": [
        {
          "output_type": "stream",
          "name": "stdout",
          "text": [
            "Program to find the most frequent words in a text read from a file.\n",
            "\n"
          ]
        },
        {
          "output_type": "error",
          "ename": "FileNotFoundError",
          "evalue": "ignored",
          "traceback": [
            "\u001b[0;31m---------------------------------------------------------------------------\u001b[0m",
            "\u001b[0;31mFileNotFoundError\u001b[0m                         Traceback (most recent call last)",
            "\u001b[0;32m<ipython-input-47-e170a2d3bf88>\u001b[0m in \u001b[0;36m<module>\u001b[0;34m\u001b[0m\n\u001b[1;32m      4\u001b[0m \u001b[0mmaxCount\u001b[0m \u001b[0;34m=\u001b[0m \u001b[0;36m0\u001b[0m\u001b[0;34m;\u001b[0m\u001b[0;34m\u001b[0m\u001b[0;34m\u001b[0m\u001b[0m\n\u001b[1;32m      5\u001b[0m \u001b[0mwords\u001b[0m \u001b[0;34m=\u001b[0m \u001b[0;34m[\u001b[0m\u001b[0;34m]\u001b[0m\u001b[0;34m;\u001b[0m\u001b[0;34m\u001b[0m\u001b[0;34m\u001b[0m\u001b[0m\n\u001b[0;32m----> 6\u001b[0;31m \u001b[0mfile\u001b[0m \u001b[0;34m=\u001b[0m \u001b[0mopen\u001b[0m\u001b[0;34m(\u001b[0m\u001b[0;34m\"data.txt\"\u001b[0m\u001b[0;34m,\u001b[0m \u001b[0;34m\"r\"\u001b[0m\u001b[0;34m)\u001b[0m\u001b[0;34m\u001b[0m\u001b[0;34m\u001b[0m\u001b[0m\n\u001b[0m\u001b[1;32m      7\u001b[0m \u001b[0;32mfor\u001b[0m \u001b[0mline\u001b[0m \u001b[0;32min\u001b[0m \u001b[0mfile\u001b[0m\u001b[0;34m:\u001b[0m\u001b[0;34m\u001b[0m\u001b[0;34m\u001b[0m\u001b[0m\n\u001b[1;32m      8\u001b[0m     \u001b[0mstring\u001b[0m \u001b[0;34m=\u001b[0m \u001b[0mline\u001b[0m\u001b[0;34m.\u001b[0m\u001b[0mlower\u001b[0m\u001b[0;34m(\u001b[0m\u001b[0;34m)\u001b[0m\u001b[0;34m.\u001b[0m\u001b[0mreplace\u001b[0m\u001b[0;34m(\u001b[0m\u001b[0;34m','\u001b[0m\u001b[0;34m,\u001b[0m\u001b[0;34m''\u001b[0m\u001b[0;34m)\u001b[0m\u001b[0;34m.\u001b[0m\u001b[0mreplace\u001b[0m\u001b[0;34m(\u001b[0m\u001b[0;34m'.'\u001b[0m\u001b[0;34m,\u001b[0m\u001b[0;34m''\u001b[0m\u001b[0;34m)\u001b[0m\u001b[0;34m.\u001b[0m\u001b[0msplit\u001b[0m\u001b[0;34m(\u001b[0m\u001b[0;34m\" \"\u001b[0m\u001b[0;34m)\u001b[0m\u001b[0;34m;\u001b[0m\u001b[0;34m\u001b[0m\u001b[0;34m\u001b[0m\u001b[0m\n",
            "\u001b[0;31mFileNotFoundError\u001b[0m: [Errno 2] No such file or directory: 'data.txt'"
          ]
        }
      ]
    }
  ]
}