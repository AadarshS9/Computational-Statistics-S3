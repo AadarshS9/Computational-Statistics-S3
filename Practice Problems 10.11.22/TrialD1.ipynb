{
  "nbformat": 4,
  "nbformat_minor": 0,
  "metadata": {
    "colab": {
      "provenance": [],
      "authorship_tag": "ABX9TyM+xxY+/WApy3lo5BLf7mmt",
      "include_colab_link": true
    },
    "kernelspec": {
      "name": "python3",
      "display_name": "Python 3"
    },
    "language_info": {
      "name": "python"
    }
  },
  "cells": [
    {
      "cell_type": "markdown",
      "metadata": {
        "id": "view-in-github",
        "colab_type": "text"
      },
      "source": [
        "<a href=\"https://colab.research.google.com/github/AadarshS9/Computational-Statistics-S3/blob/main/TrialD1.ipynb\" target=\"_parent\"><img src=\"https://colab.research.google.com/assets/colab-badge.svg\" alt=\"Open In Colab\"/></a>"
      ]
    },
    {
      "cell_type": "code",
      "source": [
        "print (\"Hello World\\n\")\n",
        "\n",
        "a = ['cat','dawg','bunda']\n",
        "for x in a:  print (x, len(x))\n",
        "\n",
        "b = 23*3\n",
        "print(b)\n",
        "print(\"\\n\")\n",
        "list = []\n",
        "list = ['rah','oeuf',6]\n",
        "print(list)\n",
        "print(\"\\n\")\n",
        "tuple = ('bla','blah',3)\n",
        "print (tuple)\n",
        "print(\"\\n\")"
      ],
      "metadata": {
        "colab": {
          "base_uri": "https://localhost:8080/"
        },
        "id": "Q5l5ShHqkaW9",
        "outputId": "e842c07f-389b-421e-d4e0-e310cec5f589"
      },
      "execution_count": null,
      "outputs": [
        {
          "output_type": "stream",
          "name": "stdout",
          "text": [
            "Hello World\n",
            "\n",
            "cat 3\n",
            "dawg 4\n",
            "bunda 5\n",
            "69\n",
            "\n",
            "\n",
            "['rah', 'oeuf', 6]\n",
            "\n",
            "\n",
            "('bla', 'blah', 3)\n",
            "\n",
            "\n"
          ]
        }
      ]
    },
    {
      "cell_type": "code",
      "source": [
        "print('First program in python\\n')\n",
        "\n",
        "n=int(input(\"Enter number: \"))\n",
        "sum=0\n",
        "fact=1\n",
        "#loop from 1 to n\n",
        "for num in range(1,n+1,1):\n",
        "     sum=sum+num\n",
        "     fact=fact*num\n",
        "print(\"Sum of first\",n,\"numbers is:\",sum)\n",
        "print(\"Factorial of first\",n,\"numbers is:\",fact)\n",
        "average=sum/num\n",
        "print(\"Average of \",n,\" numbers is:\",average)"
      ],
      "metadata": {
        "colab": {
          "base_uri": "https://localhost:8080/"
        },
        "id": "B30v0sl4s-h8",
        "outputId": "b8bad85f-578a-4170-8b7f-e173b4e8f1ed"
      },
      "execution_count": null,
      "outputs": [
        {
          "output_type": "stream",
          "name": "stdout",
          "text": [
            "First program in python\n",
            "\n",
            "Enter number: 11\n",
            "Sum of first 11 numbers is: 66\n",
            "Factorial of first 11 numbers is: 39916800\n",
            "Average of  11  numbers is: 6.0\n"
          ]
        }
      ]
    },
    {
      "cell_type": "code",
      "source": [
        "r=int(input(\"Enter range limit: \"))\n",
        "for i in range(r+1): print(i)"
      ],
      "metadata": {
        "colab": {
          "base_uri": "https://localhost:8080/"
        },
        "id": "yHh3fWCiziji",
        "outputId": "ee3b4b41-7c07-4ff1-cd19-7ae9233c4dfb"
      },
      "execution_count": null,
      "outputs": [
        {
          "output_type": "stream",
          "name": "stdout",
          "text": [
            "Enter range limit: 5\n",
            "0\n",
            "1\n",
            "2\n",
            "3\n",
            "4\n",
            "5\n"
          ]
        }
      ]
    },
    {
      "cell_type": "code",
      "source": [
        "h=int(input(\"Enter upper limit: \"))\n",
        "l=int(input(\"Enter lower limit: \"))\n",
        "for i in reversed(range(l,h+1)): print(i)"
      ],
      "metadata": {
        "colab": {
          "base_uri": "https://localhost:8080/"
        },
        "id": "ODMwMH0MzsMJ",
        "outputId": "8d348727-d095-43fc-c29a-d2a69fc307c9"
      },
      "execution_count": null,
      "outputs": [
        {
          "output_type": "stream",
          "name": "stdout",
          "text": [
            "Enter upper limit: 21\n",
            "Enter lower limit: 10\n",
            "21\n",
            "20\n",
            "19\n",
            "18\n",
            "17\n",
            "16\n",
            "15\n",
            "14\n",
            "13\n",
            "12\n",
            "11\n",
            "10\n"
          ]
        }
      ]
    },
    {
      "cell_type": "code",
      "source": [
        "#list with int and floats\n",
        "num_list=[10,20.5,30,45.5,50]\n",
        "int[numlist]=(10,205,30,455,50)\n",
        "print(\"Numbers in list are: \",num_list)\n",
        "res1=0\n",
        "for num in num_list:\n",
        "    res1+=num\n",
        "avg1=res1/len(num_list)\n",
        "max1=max(numlist))\n",
        "max\n",
        "\n",
        "print(\"Sum of numbers in list is: \",res1)\n",
        "print(\"Average of numbers in list is: \",avg1)\n",
        "print(\"Maximum value of numbers in list is: \",max1)"
      ],
      "metadata": {
        "colab": {
          "base_uri": "https://localhost:8080/",
          "height": 130
        },
        "id": "J3NQO-cL0b8K",
        "outputId": "ac4246fc-05dc-429a-aece-948c3502051c"
      },
      "execution_count": null,
      "outputs": [
        {
          "output_type": "error",
          "ename": "SyntaxError",
          "evalue": "ignored",
          "traceback": [
            "\u001b[0;36m  File \u001b[0;32m\"<ipython-input-169-d1683be94b20>\"\u001b[0;36m, line \u001b[0;32m9\u001b[0m\n\u001b[0;31m    max1=max(numlist))\u001b[0m\n\u001b[0m                     ^\u001b[0m\n\u001b[0;31mSyntaxError\u001b[0m\u001b[0;31m:\u001b[0m invalid syntax\n"
          ]
        }
      ]
    },
    {
      "cell_type": "code",
      "source": [
        "mult=int(input(\"Enter value to multiply: \"))\n",
        "lim=int(input(\"Enter multiplication limit: \"))\n",
        "for i in range(1,lim+1):\n",
        "  print(mult,\"x\",i,\"is: \",mult*i)"
      ],
      "metadata": {
        "colab": {
          "base_uri": "https://localhost:8080/"
        },
        "id": "PCcrCG2o45LR",
        "outputId": "00237146-3de1-4df9-eab4-c12b9f6a9047"
      },
      "execution_count": null,
      "outputs": [
        {
          "output_type": "stream",
          "name": "stdout",
          "text": [
            "Enter value to multiply: 6\n",
            "Enter multiplication limit: 12\n",
            "6 x 1 is:  6\n",
            "6 x 2 is:  12\n",
            "6 x 3 is:  18\n",
            "6 x 4 is:  24\n",
            "6 x 5 is:  30\n",
            "6 x 6 is:  36\n",
            "6 x 7 is:  42\n",
            "6 x 8 is:  48\n",
            "6 x 9 is:  54\n",
            "6 x 10 is:  60\n",
            "6 x 11 is:  66\n",
            "6 x 12 is:  72\n"
          ]
        }
      ]
    },
    {
      "cell_type": "code",
      "source": [
        "n=20\n",
        "total_numbers=n\n",
        "sum=0\n",
        "while n>=0:\n",
        "    sum+=n\n",
        "    n-=1\n",
        "print(\"sum = \",sum)\n",
        "average=sum/total_numbers\n",
        "print(\"average = \",average)"
      ],
      "metadata": {
        "colab": {
          "base_uri": "https://localhost:8080/"
        },
        "id": "o-pgnvLm5dNq",
        "outputId": "0bd7017a-50aa-4d4a-e3b4-3c8c8b39516e"
      },
      "execution_count": null,
      "outputs": [
        {
          "output_type": "stream",
          "name": "stdout",
          "text": [
            "sum =  210\n",
            "average =  10.5\n"
          ]
        }
      ]
    },
    {
      "cell_type": "code",
      "source": [
        "num1=0\n",
        "num2=1\n",
        "print(\"Fibonacci sequence: \")\n",
        "for i in range(10):\n",
        "    print(num1)\n",
        "    res=num1+num2\n",
        "    num1=num2\n",
        "    num2=res\n"
      ],
      "metadata": {
        "colab": {
          "base_uri": "https://localhost:8080/"
        },
        "id": "rbTDw4c26sM_",
        "outputId": "4a4d4004-a004-452b-9884-04bc4ccf50ce"
      },
      "execution_count": null,
      "outputs": [
        {
          "output_type": "stream",
          "name": "stdout",
          "text": [
            "Fibonacci sequence: \n",
            "0\n",
            "1\n",
            "1\n",
            "2\n",
            "3\n",
            "5\n",
            "8\n",
            "13\n",
            "21\n",
            "34\n"
          ]
        }
      ]
    },
    {
      "cell_type": "code",
      "source": [
        "num=int(input(\"Enter value to find factorial: \"))\n",
        "factorial=1\n",
        "if num<0:\n",
        "    print(\"Factorial does not exist for negative numbers.\")\n",
        "elif num==0:\n",
        "    print(\"The factorial of 0 is 1\")\n",
        "else:\n",
        "  for i in range(1,num+1):\n",
        "      fact=factorial*i\n",
        "      factorial=fact\n",
        "  print(fact)"
      ],
      "metadata": {
        "colab": {
          "base_uri": "https://localhost:8080/"
        },
        "id": "rnFrWWog9UkK",
        "outputId": "d96c0794-9f63-45a1-e587-d528654dd173"
      },
      "execution_count": null,
      "outputs": [
        {
          "output_type": "stream",
          "name": "stdout",
          "text": [
            "Enter value to find factorial: 5\n",
            "120\n"
          ]
        }
      ]
    },
    {
      "cell_type": "code",
      "source": [],
      "metadata": {
        "id": "b2FLWJpo-kfA"
      },
      "execution_count": null,
      "outputs": []
    }
  ]
}
