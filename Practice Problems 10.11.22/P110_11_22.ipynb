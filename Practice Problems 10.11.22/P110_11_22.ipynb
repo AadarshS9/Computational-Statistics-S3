{
  "nbformat": 4,
  "nbformat_minor": 0,
  "metadata": {
    "colab": {
      "provenance": [],
      "authorship_tag": "ABX9TyNQi0AtW8MMt+xmTw4wkaLw",
      "include_colab_link": true
    },
    "kernelspec": {
      "name": "python3",
      "display_name": "Python 3"
    },
    "language_info": {
      "name": "python"
    }
  },
  "cells": [
    {
      "cell_type": "markdown",
      "metadata": {
        "id": "view-in-github",
        "colab_type": "text"
      },
      "source": [
        "<a href=\"https://colab.research.google.com/github/AadarshS9/Computational-Statistics-S3/blob/main/P110_11_22.ipynb\" target=\"_parent\"><img src=\"https://colab.research.google.com/assets/colab-badge.svg\" alt=\"Open In Colab\"/></a>"
      ]
    },
    {
      "cell_type": "code",
      "execution_count": null,
      "metadata": {
        "colab": {
          "base_uri": "https://localhost:8080/"
        },
        "id": "AUnDcvmEV5sT",
        "outputId": "7099d3dc-e893-40fc-fe00-313bb19bdee1"
      },
      "outputs": [
        {
          "output_type": "stream",
          "name": "stdout",
          "text": [
            "Program to find area of a triangle\n",
            "\n",
            "Kindly enter base width of the triangle: 10\n",
            "Kindly enter height of the triangle: 12\n",
            "\n",
            "The area of the triangle is  60.0\n"
          ]
        }
      ],
      "source": [
        "#1\n",
        "print('Program to find area of a triangle\\n')\n",
        "w=int(input(\"Kindly enter base width of the triangle: \"))\n",
        "h=int(input(\"Kindly enter height of the triangle: \"))\n",
        "area=0.5*w*h\n",
        "print(\"\\nThe calculated area of the triangle is \",area)"
      ]
    },
    {
      "cell_type": "code",
      "source": [
        "#2\n",
        "print('Program to swap two variables\\n')\n",
        "var1=var2=temp=0\n",
        "var1=int(input(\"Kindly enter data to be stored in variable 1: \"))\n",
        "var2=int(input(\"Kindly enter data to be stored in variable 2: \"))\n",
        "print(\"Currently,\")\n",
        "print(\"Variable 1: \",var1,\" Variable 2: \",var2)\n",
        "temp=var1\n",
        "var1=var2\n",
        "var2=temp\n",
        "print(\"\\nAfter swapping,\")\n",
        "print(\"Variable 1: \",var1,\" Variable 2: \",var2)"
      ],
      "metadata": {
        "colab": {
          "base_uri": "https://localhost:8080/"
        },
        "id": "QRvWZEVUXsDn",
        "outputId": "b30118bb-5080-4605-c5a2-29532afce5d7"
      },
      "execution_count": null,
      "outputs": [
        {
          "output_type": "stream",
          "name": "stdout",
          "text": [
            "Program to swap two variables\n",
            "\n",
            "Kindly enter data to be stored in variable 1: 69\n",
            "Kindly enter data to be stored in variable 2: 96\n",
            "Currently,\n",
            "Variable 1:  69  Variable 2:  96\n",
            "\n",
            "After swapping,\n",
            "Variable 1:  96  Variable 2:  69\n"
          ]
        }
      ]
    },
    {
      "cell_type": "code",
      "source": [
        "#3\n",
        "print('Program to solve quadratic equation\\n')\n",
        "print('The quadratic equation is of the form ax^2 + bx +c')\n",
        "a=int(input(\"Kindly enter value of a: \"))\n",
        "b=int(input(\"Kindly enter value of b: \"))\n",
        "c=int(input(\"Kindly enter value of c: \"))\n",
        "\n",
        "\n",
        "if a==0:\n",
        "    print('Kindly input a proper quadratic equation\\n')\n",
        "else:\n",
        "  d = (b*b-4*a*c)\n",
        "  discriminant=d**0.5\n",
        "  e=(((-d)**0.5)/(2*a))\n",
        "\n",
        "  if d > 0:\n",
        "    print(\"\\nThe solutions are real and different roots: \")  \n",
        "    print('x1: ',(-b+discriminant)/(2*a))  \n",
        "    print('x2: ',(-b-discriminant)/(2*a))  \n",
        "  \n",
        "  elif d == 0:  \n",
        "    print(\"\\nThe solutions are real and equal roots\")  \n",
        "    print('x: ',-b/(2*a))  \n",
        "  \n",
        "  else:  \n",
        "    print(\"\\nThe solutions are complex Roots\")  \n",
        "    print('x1: ',-b/(2*a), \" + \", e,\" i\")  \n",
        "    print('x2: ',-b/(2*a), \" - \", e,\" i-\") \n"
      ],
      "metadata": {
        "colab": {
          "base_uri": "https://localhost:8080/"
        },
        "id": "wP0pki-PaUzG",
        "outputId": "d5cc9fcb-aa98-409d-a1c4-1719c8cc4d21"
      },
      "execution_count": null,
      "outputs": [
        {
          "output_type": "stream",
          "name": "stdout",
          "text": [
            "Program to solve quadratic equation\n",
            "\n",
            "The quadratic equation is of the form ax^2 + bx +c\n",
            "Kindly enter value of a: 4\n",
            "Kindly enter value of b: -4\n",
            "Kindly enter value of c: 1\n",
            "\n",
            "The solutions are real and equal roots\n",
            "x:  0.5\n"
          ]
        }
      ]
    },
    {
      "cell_type": "code",
      "source": [
        "#4\n",
        "print('Program to find the square root\\n')\n",
        "val=int(input(\"Kindly enter value of number: \"))\n",
        "sqroot=val**0.5\n",
        "print(\"The sqaure root of \",val,\"is: \",sqroot)\n"
      ],
      "metadata": {
        "colab": {
          "base_uri": "https://localhost:8080/"
        },
        "id": "xiIpV18xhtzq",
        "outputId": "ee70f74a-bcf7-4d9a-aaa1-f6d5cd67b33d"
      },
      "execution_count": null,
      "outputs": [
        {
          "output_type": "stream",
          "name": "stdout",
          "text": [
            "Program to find the square root\n",
            "\n",
            "Kindly enter value of number: 8\n",
            "The sqaure root of  8 is:  2.8284271247461903\n"
          ]
        }
      ]
    },
    {
      "cell_type": "code",
      "source": [
        "#5\n",
        "print('Program to print all prime numbers within an interval\\n')\n",
        "s=int(input(\"Kindly enter value of starting range: \"))\n",
        "e=int(input(\"Kindly enter value of ending range: \"))\n",
        "print(\"\\nThe Prime Numbers in the given interval range from \",s,\" to \",e,\" are: \")  \n",
        "for number in range (s,e + 1):  \n",
        "    if number>1:  \n",
        "        for i in range (2, number):  \n",
        "            if (number%i)==0:  \n",
        "                break  \n",
        "        else:  \n",
        "            print (number) "
      ],
      "metadata": {
        "colab": {
          "base_uri": "https://localhost:8080/"
        },
        "id": "PQHEya4Vigva",
        "outputId": "ede86ce3-5c37-4141-be53-465c66aa7b94"
      },
      "execution_count": null,
      "outputs": [
        {
          "output_type": "stream",
          "name": "stdout",
          "text": [
            "Program to print all prime numbers within an interval\n",
            "\n",
            "Kindly enter value of starting range: 2\n",
            "Kindly enter value of ending range: 20\n",
            "The Prime Numbers in the given interval from  2  to  20  are: \n",
            "2\n",
            "3\n",
            "5\n",
            "7\n",
            "11\n",
            "13\n",
            "17\n",
            "19\n"
          ]
        }
      ]
    },
    {
      "cell_type": "code",
      "source": [
        "#6\n",
        "print('Program to search an element in a list\\n')\n",
        "n=int(input(\"Kindly enter size of list: \"))\n",
        "list = []\n",
        "print('\\n')\n",
        "for i in range(0,n):\n",
        "  entry=int(input(\"Kindly enter element: \"))\n",
        "  list.append(entry)\n",
        "s=int(input(\"\\nKindly enter element to search for: \"))\n",
        "for i in range(0,n):\n",
        "  if list[i]==s:\n",
        "    print('Element ',s,' found at position ',i+1)\n",
        "    break\n",
        "if list[i]!=s and i+1==n:\n",
        "  print('Element ',s,' not present in list')\n"
      ],
      "metadata": {
        "colab": {
          "base_uri": "https://localhost:8080/"
        },
        "id": "1CnTlnfc19nZ",
        "outputId": "0fb280ea-d2b7-4e43-c863-61cf32623bab"
      },
      "execution_count": null,
      "outputs": [
        {
          "output_type": "stream",
          "name": "stdout",
          "text": [
            "Program to search an element in a list\n",
            "\n",
            "Kindly enter size of list: 3\n",
            "\n",
            "\n",
            "Kindly enter element: 6\n",
            "Kindly enter element: 8\n",
            "Kindly enter element: 9\n",
            "\n",
            "Kindly enter element to search for: 6\n",
            "Element  6  found at position  1\n"
          ]
        }
      ]
    },
    {
      "cell_type": "code",
      "source": [
        "#7\n",
        "print('Program to Input a list of n numbers, calculate and display the average of numbers and also display the square of each value in the list.\\n')\n",
        "n=int(input(\"Kindly enter size of list: \"))\n",
        "list = []\n",
        "print('\\n')\n",
        "for i in range(0,n):\n",
        "  entry=int(input(\"Kindly enter element: \"))\n",
        "  list.append(entry)\n",
        "sum=0\n",
        "for i in range(0,n,1):\n",
        "  sum=sum+list[i]\n",
        "average=sum/n\n",
        "print(\"\\nThe average of the given numbers is: \",average) \n",
        "for i in range(0,n,1):\n",
        "     sq=list[i]**2\n",
        "     print('The square of ',list[i],' is: ',sq)\n",
        "\n"
      ],
      "metadata": {
        "colab": {
          "base_uri": "https://localhost:8080/"
        },
        "id": "yqHFKRtd4Zx6",
        "outputId": "7021b6a5-370d-453d-e9cb-f456164d2374"
      },
      "execution_count": null,
      "outputs": [
        {
          "output_type": "stream",
          "name": "stdout",
          "text": [
            "Program to Input a list of n numbers, calculate and display the average of numbers and also display the square of each value in the list.\n",
            "\n",
            "Kindly enter size of list: 4\n",
            "\n",
            "\n",
            "Kindly enter element: 8\n",
            "Kindly enter element: 7\n",
            "Kindly enter element: 10\n",
            "Kindly enter element: 2\n",
            "\n",
            "The average of the given numbers is:  6.75\n",
            "The square of  8  is:  64\n",
            "The square of  7  is:  49\n",
            "The square of  10  is:  100\n",
            "The square of  2  is:  4\n"
          ]
        }
      ]
    },
    {
      "cell_type": "code",
      "source": [
        "#8\n",
        "print('Program to add two matrices.\\n')\n",
        "r=int(input(\"Kindly enter matrix dimension row size: \"))\n",
        "c=int(input(\"Kindly enter matrix dimension column size: \"))\n",
        "matrix1 = []\n",
        "matrix2 = []\n",
        "result = []\n",
        "print(\"\\nEnter the entries row-wise for matrix 1:\")\n",
        "for i in range(r):          \n",
        "    m1 =[]\n",
        "    for j in range(c):     \n",
        "         m1.append(int(input()))\n",
        "    matrix1.append(m1)\n",
        "\n",
        "print(\"\\nEnter the entries row-wise for matrix 2:\")\n",
        "for i in range(r):          \n",
        "    m2 =[]\n",
        "    for j in range(c):     \n",
        "         m2.append(int(input()))\n",
        "    matrix2.append(m2)\n",
        "  \n",
        "print(\"\\nMatrix 1:\")\n",
        "for i in range(r):\n",
        "    for j in range(c):\n",
        "        print(matrix1[i][j], end = \" \")\n",
        "    print()\n",
        "\n",
        "print(\"\\nMatrix 2:\")\n",
        "for i in range(r):\n",
        "    for j in range(c):\n",
        "        print(matrix2[i][j], end = \" \")\n",
        "    print()\n",
        "\n",
        "for i in range(r):\n",
        "  res=[] \n",
        "  for j in range(c):\n",
        "    res.append(matrix1[i][j] + matrix2[i][j])\n",
        "  result.append(res)\n",
        " \n",
        "print(\"\\nAddition Result:\")\n",
        "for i in range(r):\n",
        "    for j in range(c):\n",
        "        print(result[i][j], end = \" \")\n",
        "    print()"
      ],
      "metadata": {
        "id": "l41AIeRnBI8s",
        "colab": {
          "base_uri": "https://localhost:8080/"
        },
        "outputId": "eb690a0a-1dad-4f45-c0bb-69a56c999239"
      },
      "execution_count": null,
      "outputs": [
        {
          "output_type": "stream",
          "name": "stdout",
          "text": [
            "Program to add two matrices.\n",
            "\n",
            "Kindly enter matrix dimension row size: 2\n",
            "Kindly enter matrix dimension column size: 2\n",
            "\n",
            "Enter the entries row-wise for matrix 1:\n",
            "1\n",
            "2\n",
            "3\n",
            "4\n",
            "\n",
            "Enter the entries row-wise for matrix 2:\n",
            "1\n",
            "2\n",
            "3\n",
            "4\n",
            "\n",
            "Matrix 1:\n",
            "1 2 \n",
            "3 4 \n",
            "\n",
            "Matrix 2:\n",
            "1 2 \n",
            "3 4 \n",
            "\n",
            "Result:\n",
            "2 4 \n",
            "6 8 \n"
          ]
        }
      ]
    },
    {
      "cell_type": "code",
      "source": [
        "#9\n",
        "print('Program to find the number of occurrences of a given substring in a string.\\n')\n",
        "str=(input(\"Kindly enter string: \"))\n",
        "substr=(input(\"Kindly enter substring to count the number of occurences: \"))\n",
        "count = str.count(substr)\n",
        "print(\"The number of occurences of \",substr,\" is: \",count)"
      ],
      "metadata": {
        "colab": {
          "base_uri": "https://localhost:8080/"
        },
        "id": "yieYNv2HLviI",
        "outputId": "33ab8e71-9f7a-4dbe-ec80-8d3095f69e7d"
      },
      "execution_count": null,
      "outputs": [
        {
          "output_type": "stream",
          "name": "stdout",
          "text": [
            "Program to find the number of occurrences of a given substring in a string.\n",
            "\n",
            "Kindly enter string: bloody fool\n",
            "Kindly enter substring to count the number of occurences: oo\n",
            "The number of occurences of  oo  is:  2\n"
          ]
        }
      ]
    },
    {
      "cell_type": "code",
      "source": [
        "#10\n",
        "print('program to count the number of vowels, consonants, words and question marks in a given string.\\n')\n",
        "str = (input(\"Kindly enter string : \"))\n",
        "vowels = 0\n",
        "consonants = 0\n",
        "words = 0\n",
        "questionmarks = 0\n",
        "strl = str.lower()\n",
        "for i in range(0, len(strl)):\n",
        "  if(strl[i] == 'a' or strl[i] == 'e' or strl[i] == 'i' or strl[i] == 'o' or strl[i] == 'u'):\n",
        "     vowels = vowels + 1\n",
        "  elif((strl[i] >= 'a' and strl[i] <= 'z')):\n",
        "    consonants = consonants + 1\n",
        "  elif((strl[i]=='?')):\n",
        "    questionmarks = questionmarks + 1\n",
        "words = strl.count(\" \")+1\n",
        "print('Vowels: ', vowels);\n",
        "print('Consonants: ', consonants);\n",
        "print('Words: ', words);\n",
        "print('Question marks : ', questionmarks);"
      ],
      "metadata": {
        "colab": {
          "base_uri": "https://localhost:8080/"
        },
        "id": "zDAeJbrQL2Md",
        "outputId": "da1569cb-2a61-46d9-a43f-804f99203d84"
      },
      "execution_count": null,
      "outputs": [
        {
          "output_type": "stream",
          "name": "stdout",
          "text": [
            "program to count the number of vowels, consonants, words and question marks in a given string.\n",
            "\n",
            "Kindly enter string : hey\n",
            "Vowels:  1\n",
            "Consonants:  2\n",
            "Words:  1\n",
            "Question marks :  0\n"
          ]
        }
      ]
    },
    {
      "cell_type": "code",
      "source": [
        "#11\n",
        "print('Program to perform matrix multiplication.\\n')\n",
        "r1=int(input(\"Kindly enter matrix-1 dimension row size: \"))\n",
        "c1=int(input(\"Kindly enter matrix-1 dimension column size: \"))\n",
        "r2=int(input(\"\\nKindly enter matrix-2 dimension row size: \"))\n",
        "c2=int(input(\"Kindly enter matrix-2 dimension column size: \"))\n",
        "if(c1==r2):\n",
        "  matrix1 = []\n",
        "  matrix2 = []\n",
        "  result = []\n",
        "  print(\"\\nEnter the entries row-wise for matrix 1:\")\n",
        "  for i in range(r1):          \n",
        "      m1 =[]\n",
        "      for j in range(c1):     \n",
        "          m1.append(int(input()))\n",
        "      matrix1.append(m1)\n",
        "\n",
        "  print(\"\\nEnter the entries row-wise for matrix 2:\")\n",
        "  for i in range(r2):          \n",
        "      m2 =[]\n",
        "      for j in range(c2):     \n",
        "          m2.append(int(input()))\n",
        "      matrix2.append(m2)\n",
        "    \n",
        "  print(\"\\nMatrix 1:\")\n",
        "  for i in range(r1):\n",
        "      for j in range(c1):\n",
        "          print(matrix1[i][j], end = \" \")\n",
        "      print()\n",
        "\n",
        "  print(\"\\nMatrix 2:\")\n",
        "  for i in range(r2):\n",
        "      for j in range(c2):\n",
        "          print(matrix2[i][j], end = \" \")\n",
        "      print()\n",
        "\n",
        "  for i in range(len(m1)):\n",
        "    for j in range(len(m2[c2])):\n",
        "       for k in range(len(m2)):\n",
        "           result[i][j] += m1[i][k] * m2[k][j]\n",
        "  \n",
        "  print(\"\\nAddition Result:\")\n",
        "  for i in range(r1):\n",
        "      for j in range(c2):\n",
        "          print(result[i][j], end = \" \")\n",
        "      print()\n",
        "else:\n",
        "   print(\"\\nMatrices cannot be multiplied as column dimension of Matrix-1 is not equal to row dimension of Matrix-2\")\n"
      ],
      "metadata": {
        "colab": {
          "base_uri": "https://localhost:8080/",
          "height": 617
        },
        "id": "mhSlTAtPrM_B",
        "outputId": "1b8689ff-bf3d-4cf6-a835-25ab701a2296"
      },
      "execution_count": null,
      "outputs": [
        {
          "output_type": "stream",
          "name": "stdout",
          "text": [
            "Program to perform matrix multiplication.\n",
            "\n",
            "Kindly enter matrix-1 dimension row size: 1\n",
            "Kindly enter matrix-1 dimension column size: 2\n",
            "\n",
            "Kindly enter matrix-2 dimension row size: 2\n",
            "Kindly enter matrix-2 dimension column size: 1\n",
            "\n",
            "Enter the entries row-wise for matrix 1:\n",
            "1\n",
            "2\n",
            "\n",
            "Enter the entries row-wise for matrix 2:\n",
            "1\n",
            "2\n",
            "\n",
            "Matrix 1:\n",
            "1 2 \n",
            "\n",
            "Matrix 2:\n",
            "1 \n",
            "2 \n"
          ]
        },
        {
          "output_type": "error",
          "ename": "IndexError",
          "evalue": "ignored",
          "traceback": [
            "\u001b[0;31m---------------------------------------------------------------------------\u001b[0m",
            "\u001b[0;31mIndexError\u001b[0m                                Traceback (most recent call last)",
            "\u001b[0;32m<ipython-input-22-25f610b98202>\u001b[0m in \u001b[0;36m<module>\u001b[0;34m\u001b[0m\n\u001b[1;32m     35\u001b[0m \u001b[0;34m\u001b[0m\u001b[0m\n\u001b[1;32m     36\u001b[0m   \u001b[0;32mfor\u001b[0m \u001b[0mi\u001b[0m \u001b[0;32min\u001b[0m \u001b[0mrange\u001b[0m\u001b[0;34m(\u001b[0m\u001b[0mlen\u001b[0m\u001b[0;34m(\u001b[0m\u001b[0mm1\u001b[0m\u001b[0;34m)\u001b[0m\u001b[0;34m)\u001b[0m\u001b[0;34m:\u001b[0m\u001b[0;34m\u001b[0m\u001b[0;34m\u001b[0m\u001b[0m\n\u001b[0;32m---> 37\u001b[0;31m     \u001b[0;32mfor\u001b[0m \u001b[0mj\u001b[0m \u001b[0;32min\u001b[0m \u001b[0mrange\u001b[0m\u001b[0;34m(\u001b[0m\u001b[0mlen\u001b[0m\u001b[0;34m(\u001b[0m\u001b[0mm2\u001b[0m\u001b[0;34m[\u001b[0m\u001b[0mc2\u001b[0m\u001b[0;34m]\u001b[0m\u001b[0;34m)\u001b[0m\u001b[0;34m)\u001b[0m\u001b[0;34m:\u001b[0m\u001b[0;34m\u001b[0m\u001b[0;34m\u001b[0m\u001b[0m\n\u001b[0m\u001b[1;32m     38\u001b[0m        \u001b[0;32mfor\u001b[0m \u001b[0mk\u001b[0m \u001b[0;32min\u001b[0m \u001b[0mrange\u001b[0m\u001b[0;34m(\u001b[0m\u001b[0mlen\u001b[0m\u001b[0;34m(\u001b[0m\u001b[0mm2\u001b[0m\u001b[0;34m)\u001b[0m\u001b[0;34m)\u001b[0m\u001b[0;34m:\u001b[0m\u001b[0;34m\u001b[0m\u001b[0;34m\u001b[0m\u001b[0m\n\u001b[1;32m     39\u001b[0m            \u001b[0mresult\u001b[0m\u001b[0;34m[\u001b[0m\u001b[0mi\u001b[0m\u001b[0;34m]\u001b[0m\u001b[0;34m[\u001b[0m\u001b[0mj\u001b[0m\u001b[0;34m]\u001b[0m \u001b[0;34m+=\u001b[0m \u001b[0mm1\u001b[0m\u001b[0;34m[\u001b[0m\u001b[0mi\u001b[0m\u001b[0;34m]\u001b[0m\u001b[0;34m[\u001b[0m\u001b[0mk\u001b[0m\u001b[0;34m]\u001b[0m \u001b[0;34m*\u001b[0m \u001b[0mm2\u001b[0m\u001b[0;34m[\u001b[0m\u001b[0mk\u001b[0m\u001b[0;34m]\u001b[0m\u001b[0;34m[\u001b[0m\u001b[0mj\u001b[0m\u001b[0;34m]\u001b[0m\u001b[0;34m\u001b[0m\u001b[0;34m\u001b[0m\u001b[0m\n",
            "\u001b[0;31mIndexError\u001b[0m: list index out of range"
          ]
        }
      ]
    },
    {
      "cell_type": "code",
      "source": [
        "#12\n",
        "print('Program to check the largest among 3 numbers.\\n')\n",
        "num1=int(input(\"Kindly enter the first number \"))\n",
        "num2=int(input(\"Kindly enter the second number: \"))\n",
        "num3=int(input(\"Kindly enter the third number: \"))\n",
        "if (num1 >= num2) and (num1 >= num3):\n",
        "   largest = num1\n",
        "elif (num2 >= num1) and (num2 >= num3):\n",
        "   largest = num2\n",
        "else:\n",
        "   largest = num3\n",
        "\n",
        "print(\"\\nThe largest number is: \", largest)"
      ],
      "metadata": {
        "colab": {
          "base_uri": "https://localhost:8080/"
        },
        "id": "nZwgVFOa321V",
        "outputId": "1076461c-d100-4190-886c-2b950805e956"
      },
      "execution_count": null,
      "outputs": [
        {
          "output_type": "stream",
          "name": "stdout",
          "text": [
            "Program to check the largest among 3 numbers.\n",
            "\n",
            "Kindly enter the first number 69\n",
            "Kindly enter the second number: 369\n",
            "Kindly enter the third number: 669\n",
            "\n",
            "The largest number is:  669\n"
          ]
        }
      ]
    },
    {
      "cell_type": "code",
      "source": [
        "#13\n",
        "print('Program to check leap year.\\n')\n",
        "year=int(input(\"Kindly enter the year: \"))\n",
        "if (year%4 == 0 and year%100 != 0) or (year%400 == 0 and year%100 != 0) :\n",
        "    print(year, \" is a leap year.\")\n",
        "else :\n",
        "    print(year, \" is not a leap year.\")"
      ],
      "metadata": {
        "colab": {
          "base_uri": "https://localhost:8080/"
        },
        "id": "PMBzcNL15MOV",
        "outputId": "a627b638-a191-4434-8803-9c09b31c8c14"
      },
      "execution_count": null,
      "outputs": [
        {
          "output_type": "stream",
          "name": "stdout",
          "text": [
            "Program to check leap year.\n",
            "\n",
            "Kindly enter the year: 2024\n",
            "2024  is a leap year.\n"
          ]
        }
      ]
    },
    {
      "cell_type": "code",
      "source": [
        "#14\n",
        "print('Program to search an element in a list\\n')\n",
        "n=int(input(\"Kindly enter size of list: \"))\n",
        "list = []\n",
        "print('\\n')\n",
        "for i in range(0,n):\n",
        "  entry=int(input(\"Kindly enter element: \"))\n",
        "  list.append(entry)\n",
        "s=int(input(\"\\nKindly enter element to search for: \"))\n",
        "for i in range(0,n):\n",
        "  if list[i]==s:\n",
        "    print('Element ',s,' found at position ',i+1)\n",
        "    break\n",
        "if list[i]!=s and i+1==n:\n",
        "  print('Element ',s,' not present in list')\n"
      ],
      "metadata": {
        "colab": {
          "base_uri": "https://localhost:8080/"
        },
        "id": "NpU9sr7S6kvU",
        "outputId": "aca574cf-eba8-4c45-e2ef-aeaec4de6436"
      },
      "execution_count": null,
      "outputs": [
        {
          "output_type": "stream",
          "name": "stdout",
          "text": [
            "Program to search an element in a list.\n",
            "\n",
            "Kindly enter the size of list: 4\n",
            "Kindly enter 4 elements for the list: \n",
            "\n",
            "36\n",
            "69\n",
            "69\n",
            "96\n",
            "Kindly enter element to search for: 69\n",
            "\n",
            "Element not found in the list!\n"
          ]
        }
      ]
    },
    {
      "cell_type": "code",
      "source": [
        "#15\n",
        "print('program to count the number of vowels, consonants, words and question marks in a given string.\\n')\n",
        "str = (input(\"Kindly enter string : \"))\n",
        "vowels = 0\n",
        "consonants = 0\n",
        "words = 0\n",
        "questionmarks = 0\n",
        "strl = str.lower()\n",
        "for i in range(0, len(strl)):\n",
        "  if(strl[i] == 'a' or strl[i] == 'e' or strl[i] == 'i' or strl[i] == 'o' or strl[i] == 'u'):\n",
        "     vowels = vowels + 1\n",
        "  elif((strl[i] >= 'a' and strl[i] <= 'z')):\n",
        "    consonants = consonants + 1\n",
        "  elif((strl[i]=='?')):\n",
        "    questionmarks = questionmarks + 1\n",
        "words = strl.count(\" \")+1\n",
        "print('Vowels: ', vowels);\n",
        "print('Consonants: ', consonants);\n",
        "print('Words: ', words);\n",
        "print('Question marks : ', questionmarks);"
      ],
      "metadata": {
        "id": "GSKRfF-TIs7U"
      },
      "execution_count": null,
      "outputs": []
    }
  ]
}
