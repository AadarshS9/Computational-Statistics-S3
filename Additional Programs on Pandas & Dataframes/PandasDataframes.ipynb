{
  "nbformat": 4,
  "nbformat_minor": 0,
  "metadata": {
    "colab": {
      "provenance": [],
      "authorship_tag": "ABX9TyO/CIdW/RmHTft7z2MF6k2U",
      "include_colab_link": true
    },
    "kernelspec": {
      "name": "python3",
      "display_name": "Python 3"
    },
    "language_info": {
      "name": "python"
    }
  },
  "cells": [
    {
      "cell_type": "markdown",
      "metadata": {
        "id": "view-in-github",
        "colab_type": "text"
      },
      "source": [
        "<a href=\"https://colab.research.google.com/github/AadarshS9/Computational-Statistics-S3/blob/main/PandasDataframes.ipynb\" target=\"_parent\"><img src=\"https://colab.research.google.com/assets/colab-badge.svg\" alt=\"Open In Colab\"/></a>"
      ]
    },
    {
      "cell_type": "code",
      "execution_count": null,
      "metadata": {
        "colab": {
          "base_uri": "https://localhost:8080/"
        },
        "id": "BxvdvW5pi7IC",
        "outputId": "0622821c-cd84-4739-9762-2c80cc23d5e6"
      },
      "outputs": [
        {
          "output_type": "stream",
          "name": "stdout",
          "text": [
            "1.Write a Pandas program to add, subtract,multiple and divide two Pandas Series.\n",
            "Panda series 1:\n",
            "[1, 2, 3, 4, 5]\n",
            "\n",
            "\n",
            "Panda series 2:\n",
            "[6, 7, 8, 9, 10]\n",
            "\n",
            "\n",
            "Addition of two panda series:\n",
            "0     7\n",
            "1     9\n",
            "2    11\n",
            "3    13\n",
            "4    15\n",
            "dtype: int64\n",
            "\n",
            "\n",
            "Subtraction of two panda series:\n",
            "0   -5\n",
            "1   -5\n",
            "2   -5\n",
            "3   -5\n",
            "4   -5\n",
            "dtype: int64\n",
            "\n",
            "\n",
            "Multiplication of two panda series:\n",
            "0     6\n",
            "1    14\n",
            "2    24\n",
            "3    36\n",
            "4    50\n",
            "dtype: int64\n",
            "\n",
            "\n",
            "Division of two panda series:\n",
            "0    0.166667\n",
            "1    0.285714\n",
            "2    0.375000\n",
            "3    0.444444\n",
            "4    0.500000\n",
            "dtype: float64\n"
          ]
        }
      ],
      "source": [
        "print(\"1.Write a Pandas program to add, subtract,multiple and divide two Pandas Series\")\n",
        "import pandas as pd\n",
        "a=[1,2,3,4,5]\n",
        "b=[6,7,8,9,10]\n",
        "ps1=pd.Series(a)\n",
        "ps2=pd.Series(b)\n",
        "print(\"Panda series 1:\")\n",
        "print(a)\n",
        "print(\"\\n\")\n",
        "print(\"Panda series 2:\")\n",
        "print(b)\n",
        "print(\"\\n\")\n",
        "ds = ps1 + ps2\n",
        "print(\"Addition of two panda series:\")\n",
        "print(ds)\n",
        "print(\"\\n\")\n",
        "print(\"Subtraction of two panda series:\")\n",
        "ds = ps1 - ps2\n",
        "print(ds)\n",
        "print(\"\\n\")\n",
        "print(\"Multiplication of two panda series:\")\n",
        "ds = ps1 * ps2\n",
        "print(ds)\n",
        "print(\"\\n\")\n",
        "print(\"Division of two panda series:\")\n",
        "ds = ps1 / ps2\n",
        "print(ds)"
      ]
    },
    {
      "cell_type": "code",
      "source": [
        "print(\"2.Write a Pandas program to compare the elements of the two Pandas Series\")\n",
        "import pandas as pd\n",
        "a=[1,2,3,11,5]\n",
        "b=[6,2,8,9,10]\n",
        "c=[96,97,98,99,100]\n",
        "d=[96,97,98,99,100]\n",
        "ps1=pd.Series(a)\n",
        "ps2=pd.Series(b)\n",
        "ps3=pd.Series(c)\n",
        "ps4=pd.Series(d)\n",
        "print(\"Panda series 1:\")\n",
        "print(a)\n",
        "print(\"\\n\")\n",
        "print(\"Panda series 2:\")\n",
        "print(b)\n",
        "print(\"\\n\")\n",
        "print(\"Panda series 3:\")\n",
        "print(c)\n",
        "print(\"\\n\")\n",
        "print(\"Panda series 4:\")\n",
        "print(d)\n",
        "print(\"\\n\")\n",
        "print(\"Comparison:\")\n",
        "print(\" Series 1 elements Equal Series 2 elements:\")\n",
        "print(ps1 == ps2)\n",
        "print(\"\\n\")\n",
        "print(\" Series 1 elements Greater than Series 2 elements:\")\n",
        "print(ps1 > ps2)\n",
        "print(\"\\n\")\n",
        "print(\" Series 1 elements Less than Series 2 elements:\")\n",
        "print(ps1 < ps2)\n",
        "print(\"\\n\")\n",
        "print(\"\\nComparing Series 3 and 4 using function:\")\n",
        "result = ps3.equals(other=ps4)\n",
        "print(result)"
      ],
      "metadata": {
        "colab": {
          "base_uri": "https://localhost:8080/"
        },
        "id": "tEBPRiiw1OvV",
        "outputId": "6d302b37-3268-4627-c6cb-1f8ce5a5ba94"
      },
      "execution_count": null,
      "outputs": [
        {
          "output_type": "stream",
          "name": "stdout",
          "text": [
            "2.Write a Pandas program to compare the elements of the two Pandas Series\n",
            "Panda series 1:\n",
            "[1, 2, 3, 11, 5]\n",
            "\n",
            "\n",
            "Panda series 2:\n",
            "[6, 2, 8, 9, 10]\n",
            "\n",
            "\n",
            "Panda series 3:\n",
            "[96, 97, 98, 99, 100]\n",
            "\n",
            "\n",
            "Panda series 4:\n",
            "[96, 97, 98, 99, 100]\n",
            "\n",
            "\n",
            "Comparison:\n",
            " Series 1 elements Equal Series 2 elements:\n",
            "0    False\n",
            "1     True\n",
            "2    False\n",
            "3    False\n",
            "4    False\n",
            "dtype: bool\n",
            "\n",
            "\n",
            " Series 1 elements Greater than Series 2 elements:\n",
            "0    False\n",
            "1    False\n",
            "2    False\n",
            "3     True\n",
            "4    False\n",
            "dtype: bool\n",
            "\n",
            "\n",
            " Series 1 elements Less than Series 2 elements:\n",
            "0     True\n",
            "1    False\n",
            "2     True\n",
            "3    False\n",
            "4     True\n",
            "dtype: bool\n",
            "\n",
            "\n",
            "\n",
            "Comparing Series 3 and 4 using function:\n",
            "True\n"
          ]
        }
      ]
    },
    {
      "cell_type": "code",
      "source": [
        "print(\"3.Write a Pandas program to convert a dictionary to a Pandas series.\")\n",
        "import pandas as pd\n",
        "dict={\"U2109001\": \"Aadarsh\", \"U2109002\": \" Abhay  \",\"U2109003\": \"Ajil   \"}\n",
        "print(dict)\n",
        "print(\"\\n\")\n",
        "myvar=pd.Series(dict)\n",
        "print(myvar)"
      ],
      "metadata": {
        "colab": {
          "base_uri": "https://localhost:8080/"
        },
        "id": "A1ABMCP87DDs",
        "outputId": "856d45e7-0ec0-447c-df5d-9507dfe1ffd4"
      },
      "execution_count": null,
      "outputs": [
        {
          "output_type": "stream",
          "name": "stdout",
          "text": [
            "3.Write a Pandas program to convert a dictionary to a Pandas series.\n",
            "{'U2109001': 'Aadarsh', 'U2109002': ' Abhay  ', 'U2109003': 'Ajil   '}\n",
            "\n",
            "\n",
            "U2109001     Aadarsh\n",
            "U2109002     Abhay  \n",
            "U2109003     Ajil   \n",
            "dtype: object\n"
          ]
        }
      ]
    },
    {
      "cell_type": "code",
      "source": [
        "print(\"4.Write a Pandas program to sort a given Series.\")\n",
        "import pandas as pd\n",
        "sval=[100, 69, 333, 369, 11]\n",
        "sort=pd.Series(sval)\n",
        "print(\"Original Data Series:\")\n",
        "print(sort)\n",
        "print(\"\\n\")\n",
        "print(\"Sorted Data Series:\")\n",
        "sorted = pd.Series(sort).sort_values()\n",
        "print(sorted)"
      ],
      "metadata": {
        "colab": {
          "base_uri": "https://localhost:8080/"
        },
        "id": "H6YT6NLj9Bdt",
        "outputId": "2f0ae7bc-6f6e-4389-ef60-b3ca4244e6f4"
      },
      "execution_count": null,
      "outputs": [
        {
          "output_type": "stream",
          "name": "stdout",
          "text": [
            "4.Write a Pandas program to sort a given Series.\n",
            "Original Data Series:\n",
            "0    100\n",
            "1     69\n",
            "2    333\n",
            "3    369\n",
            "4     11\n",
            "dtype: int64\n",
            "\n",
            "\n",
            "Sorted Data Series:\n",
            "4     11\n",
            "1     69\n",
            "0    100\n",
            "2    333\n",
            "3    369\n",
            "dtype: int64\n"
          ]
        }
      ]
    },
    {
      "cell_type": "code",
      "source": [
        "print(\"5.Write a Pandas program to create a subset of a given series based on value and condition.\")\n",
        "import pandas as pd\n",
        "uni=[0, 1,2,3,4,5,6,7,8,9,10]\n",
        "psuni=pd.Series(uni)\n",
        "print(\"Original Data Series:\")\n",
        "print(psuni)\n",
        "print(\"\\nSubset of the above Data Series:\")\n",
        "cond = 6\n",
        "subset = psuni[psuni < cond]\n",
        "print(subset)"
      ],
      "metadata": {
        "colab": {
          "base_uri": "https://localhost:8080/"
        },
        "id": "6SXmcGzh-irk",
        "outputId": "c71eb67d-9e3e-45ed-93c4-54b50f485a99"
      },
      "execution_count": null,
      "outputs": [
        {
          "output_type": "stream",
          "name": "stdout",
          "text": [
            "5.Write a Pandas program to create a subset of a given series based on value and condition.\n",
            "Original Data Series:\n",
            "0      0\n",
            "1      1\n",
            "2      2\n",
            "3      3\n",
            "4      4\n",
            "5      5\n",
            "6      6\n",
            "7      7\n",
            "8      8\n",
            "9      9\n",
            "10    10\n",
            "dtype: int64\n",
            "\n",
            "Subset of the above Data Series:\n",
            "0    0\n",
            "1    1\n",
            "2    2\n",
            "3    3\n",
            "4    4\n",
            "5    5\n",
            "dtype: int64\n"
          ]
        }
      ]
    },
    {
      "cell_type": "code",
      "source": [
        "print(\"6.Write a Pandas program to create the mean and standard deviation of the data of a given Series.\")\n",
        "import pandas as pd\n",
        "stval=[0, 1,2,3,4,5,6,7,8,9,10]\n",
        "stats=pd.Series(stval)\n",
        "print(\"Original Data Series:\")\n",
        "print(stats)\n",
        "print(\"\\nMean of the said Data Series:\")\n",
        "print(stats.mean())\n",
        "print(\"\\nStandard deviation of the said Data Series:\")\n",
        "print(stats.std())"
      ],
      "metadata": {
        "colab": {
          "base_uri": "https://localhost:8080/"
        },
        "id": "n9lwQRnr_jXz",
        "outputId": "71252675-0f62-42de-a38e-61af48e18800"
      },
      "execution_count": null,
      "outputs": [
        {
          "output_type": "stream",
          "name": "stdout",
          "text": [
            "6.Write a Pandas program to create the mean and standard deviation of the data of a given Series.\n",
            "Original Data Series:\n",
            "0      0\n",
            "1      1\n",
            "2      2\n",
            "3      3\n",
            "4      4\n",
            "5      5\n",
            "6      6\n",
            "7      7\n",
            "8      8\n",
            "9      9\n",
            "10    10\n",
            "dtype: int64\n",
            "\n",
            "Mean of the said Data Series:\n",
            "5.0\n",
            "\n",
            "Standard deviation of the said Data Series:\n",
            "3.3166247903554\n"
          ]
        }
      ]
    },
    {
      "cell_type": "code",
      "source": [
        "print(\"7.Write a Pandas program to compute the minimum, median,mean and maximum of a given series.\")\n",
        "import pandas as pd\n",
        "staval=[9,11,13,15,21,108,81,1008,7]\n",
        "staats=pd.Series(staval)\n",
        "print(\"Original Data Series:\")\n",
        "print(staats)\n",
        "print(\"\\nMinimum of the said Data Series:\")\n",
        "print(staats.min())\n",
        "print(\"\\nMedian of the said Data Series:\")\n",
        "print(staats.median())\n",
        "print(\"\\nMean of the said Data Series:\")\n",
        "print(staats.mean())\n",
        "print(\"\\nMaximum of the said Data Series:\")\n",
        "print(staats.max())"
      ],
      "metadata": {
        "colab": {
          "base_uri": "https://localhost:8080/"
        },
        "id": "KJYihNj6A_qT",
        "outputId": "eea509ff-7a84-4d68-fbae-bd11974b6ab3"
      },
      "execution_count": null,
      "outputs": [
        {
          "output_type": "stream",
          "name": "stdout",
          "text": [
            "7.Write a Pandas program to compute the minimum, median,mean and maximum of a given series.\n",
            "Original Data Series:\n",
            "0       9\n",
            "1      11\n",
            "2      13\n",
            "3      15\n",
            "4      21\n",
            "5     108\n",
            "6      81\n",
            "7    1008\n",
            "8       7\n",
            "dtype: int64\n",
            "\n",
            "Minimum of the said Data Series:\n",
            "7\n",
            "\n",
            "Median of the said Data Series:\n",
            "15.0\n",
            "\n",
            "Mean of the said Data Series:\n",
            "141.44444444444446\n",
            "\n",
            "Maximum of the said Data Series:\n",
            "1008\n"
          ]
        }
      ]
    },
    {
      "cell_type": "code",
      "source": [
        "print(\"8.Write a Pandas program to display most frequent value in a given series and replace everything else as 'Other' in the series.\")\n",
        "import pandas as pd\n",
        "num_series = pd.Series([9,11,81,6,81,3,81,1008,6,108,81,108,108])\n",
        "print(\"Original Series:\")\n",
        "print(num_series)\n",
        "print(\"\\nMost frequent value:\\n\", num_series.mode())\n",
        "print(\"\\nFrequency count:\\n\", num_series.value_counts())\n",
        "result = num_series[~num_series.isin(num_series.value_counts().index[:1])] = 'Other'\n",
        "print(\"\\nReplaced series\")\n",
        "print(num_series)"
      ],
      "metadata": {
        "colab": {
          "base_uri": "https://localhost:8080/"
        },
        "id": "MLjh8RLlI616",
        "outputId": "c1ac45d1-eef8-460f-f10e-21702caa41a2"
      },
      "execution_count": null,
      "outputs": [
        {
          "output_type": "stream",
          "name": "stdout",
          "text": [
            "8.Write a Pandas program to display most frequent value in a given series and replace everything else as 'Other' in the series.\n",
            "Original Series:\n",
            "0        9\n",
            "1       11\n",
            "2       81\n",
            "3        6\n",
            "4       81\n",
            "5        3\n",
            "6       81\n",
            "7     1008\n",
            "8        6\n",
            "9      108\n",
            "10      81\n",
            "11     108\n",
            "12     108\n",
            "dtype: int64\n",
            "\n",
            "Most frequent value:\n",
            " 0    81\n",
            "dtype: int64\n",
            "\n",
            "Frequency count:\n",
            " 81      4\n",
            "108     3\n",
            "6       2\n",
            "9       1\n",
            "11      1\n",
            "3       1\n",
            "1008    1\n",
            "dtype: int64\n",
            "\n",
            "Replaced series\n",
            "0     Other\n",
            "1     Other\n",
            "2        81\n",
            "3     Other\n",
            "4        81\n",
            "5     Other\n",
            "6        81\n",
            "7     Other\n",
            "8     Other\n",
            "9     Other\n",
            "10       81\n",
            "11    Other\n",
            "12    Other\n",
            "dtype: object\n"
          ]
        }
      ]
    },
    {
      "cell_type": "code",
      "source": [
        "print(\"9.Write a Pandas program to convert the first and last character of each word to upper case in each word of a given series.\")\n",
        "import pandas as pd\n",
        "supper = pd.Series(['aadarsh', 'racecar', 'benz', 'toyota'])\n",
        "print(\"Original Series:\")\n",
        "print(supper)\n",
        "mod = supper.map(lambda x: x[0].upper() + x[1:-1] + x[-1].upper())\n",
        "print(\"\\nConverted series:\")\n",
        "print(mod)\n"
      ],
      "metadata": {
        "colab": {
          "base_uri": "https://localhost:8080/"
        },
        "id": "kGMp95uNOt7B",
        "outputId": "82a2feeb-6ccc-4995-f6cc-14f7625dfa1f"
      },
      "execution_count": null,
      "outputs": [
        {
          "output_type": "stream",
          "name": "stdout",
          "text": [
            "9.Write a Pandas program to convert the first and last character of each word to upper case in each word of a given series.\n",
            "Original Series:\n",
            "0    aadarsh\n",
            "1    racecar\n",
            "2       benz\n",
            "3     toyota\n",
            "dtype: object\n",
            "\n",
            "Converted series:\n",
            "0    AadarsH\n",
            "1    RacecaR\n",
            "2       BenZ\n",
            "3     ToyotA\n",
            "dtype: object\n"
          ]
        }
      ]
    },
    {
      "cell_type": "code",
      "source": [
        "print(\"10.Write a Pandas program to calculate the number of characters in each word in a given series.\")\n",
        "import pandas as pd\n",
        "char = pd.Series(['aadarsh', 'rset', 'colab', 'characters'])\n",
        "print(\"Original Series:\")\n",
        "print(char)\n",
        "convert = char.map(lambda x: len(x))\n",
        "print(\"\\nNumber of characters in each word of series:\")\n",
        "print(convert)"
      ],
      "metadata": {
        "colab": {
          "base_uri": "https://localhost:8080/"
        },
        "id": "R2UH72zrQsvI",
        "outputId": "b7669aa9-97f8-4f6c-e915-4ea01866a787"
      },
      "execution_count": null,
      "outputs": [
        {
          "output_type": "stream",
          "name": "stdout",
          "text": [
            "10.Write a Pandas program to calculate the number of characters in each word in a given series.\n",
            "Original Series:\n",
            "0       aadarsh\n",
            "1          rset\n",
            "2         colab\n",
            "3    characters\n",
            "dtype: object\n",
            "\n",
            "Number of characters in each word of series:\n",
            "0     7\n",
            "1     4\n",
            "2     5\n",
            "3    10\n",
            "dtype: int64\n"
          ]
        }
      ]
    }
  ]
}
