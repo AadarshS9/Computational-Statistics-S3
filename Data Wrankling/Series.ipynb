{
  "nbformat": 4,
  "nbformat_minor": 0,
  "metadata": {
    "colab": {
      "provenance": [],
      "authorship_tag": "ABX9TyPduxBk00gtsM2uk+yOdazm",
      "include_colab_link": true
    },
    "kernelspec": {
      "name": "python3",
      "display_name": "Python 3"
    },
    "language_info": {
      "name": "python"
    }
  },
  "cells": [
    {
      "cell_type": "markdown",
      "metadata": {
        "id": "view-in-github",
        "colab_type": "text"
      },
      "source": [
        "<a href=\"https://colab.research.google.com/github/AadarshS9/Computational-Statistics-S3/blob/main/Series.ipynb\" target=\"_parent\"><img src=\"https://colab.research.google.com/assets/colab-badge.svg\" alt=\"Open In Colab\"/></a>"
      ]
    },
    {
      "cell_type": "code",
      "execution_count": null,
      "metadata": {
        "colab": {
          "base_uri": "https://localhost:8080/"
        },
        "id": "q3QmevpFxs3e",
        "outputId": "3ce49d89-e1f9-44c8-f0a4-5c807c4ab6a4"
      },
      "outputs": [
        {
          "output_type": "stream",
          "name": "stdout",
          "text": [
            "0    6\n",
            "1    3\n",
            "2    7\n",
            "3    4\n",
            "4    6\n",
            "dtype: int64\n",
            "\n",
            "\n",
            "Max:  7\n",
            "Min:  3\n",
            "Sum:  26\n",
            "STD:  1.6431676725154984\n",
            "Var:  2.7\n",
            "Count:  5\n",
            "\n",
            "\n",
            "0    0.445833\n",
            "1    0.099975\n",
            "2    0.459249\n",
            "3    0.333709\n",
            "4    0.142867\n",
            "dtype: float64\n"
          ]
        }
      ],
      "source": [
        "import pandas as pd\n",
        "import numpy as np\n",
        "rng=np.random.RandomState(42)\n",
        "s1=pd.Series(rng.randint(low=0,high=10,size=5))\n",
        "print(s1)\n",
        "print(\"\\n\")\n",
        "print(\"Max: \",s1.max())\n",
        "print(\"Min: \",s1.min())\n",
        "print(\"Sum: \",s1.sum())\n",
        "print(\"STD: \",s1.std())\n",
        "print(\"Var: \",s1.var())\n",
        "print(\"Count: \",s1.count())\n",
        "print(\"\\n\")\n",
        "\n",
        "s2=pd.Series(rng.rand(5))\n",
        "print(s2)\n"
      ]
    },
    {
      "cell_type": "code",
      "source": [
        "import numpy as np\n",
        "import pandas as pd\n",
        "df=pd.DataFrame(rng.rand(5),columns = ['A'])\n",
        "#, 'B':rng.rand(5))\n",
        "print(df)"
      ],
      "metadata": {
        "colab": {
          "base_uri": "https://localhost:8080/"
        },
        "id": "9zSAifNOzt1o",
        "outputId": "12b93f0c-239f-430c-a523-69becf1718f5"
      },
      "execution_count": null,
      "outputs": [
        {
          "output_type": "stream",
          "name": "stdout",
          "text": [
            "          A\n",
            "0  0.020584\n",
            "1  0.969910\n",
            "2  0.832443\n",
            "3  0.212339\n",
            "4  0.181825\n"
          ]
        }
      ]
    },
    {
      "cell_type": "code",
      "source": [
        "import pandas as pd\n",
        "import numpy as np\n",
        "df=pd.DataFrame({'Key':['A','B','C','A','B','C'],'Data':[0,1,2,3,4,5]})\n",
        "print(df)\n",
        "print(\"\\n\")\n",
        "x=df.groupby('Key').max()\n",
        "print(x)\n",
        "print(\"\\n\")\n",
        "y=df.groupby('Key').min()\n",
        "print(y)\n",
        "print(\"\\n\")\n",
        "z=df.groupby('Key').count()\n",
        "print(z)\n",
        "w=df.groupby('Key').sum()\n",
        "print(w)\n"
      ],
      "metadata": {
        "colab": {
          "base_uri": "https://localhost:8080/"
        },
        "id": "lC0jp2q438CO",
        "outputId": "b9fa295c-a5e9-4a54-876f-afb7ecadf2f9"
      },
      "execution_count": null,
      "outputs": [
        {
          "output_type": "stream",
          "name": "stdout",
          "text": [
            "  Key  Data\n",
            "0   A     0\n",
            "1   B     1\n",
            "2   C     2\n",
            "3   A     3\n",
            "4   B     4\n",
            "5   C     5\n",
            "\n",
            "\n",
            "     Data\n",
            "Key      \n",
            "A       3\n",
            "B       4\n",
            "C       5\n",
            "\n",
            "\n",
            "     Data\n",
            "Key      \n",
            "A       0\n",
            "B       1\n",
            "C       2\n",
            "\n",
            "\n",
            "     Data\n",
            "Key      \n",
            "A       2\n",
            "B       2\n",
            "C       2\n",
            "     Data\n",
            "Key      \n",
            "A       3\n",
            "B       5\n",
            "C       7\n"
          ]
        }
      ]
    },
    {
      "cell_type": "code",
      "source": [
        "import pandas as pd\n",
        "import numpy as np\n",
        "df=pd.DataFrame({'Key':['A','B','C','A','B','C'],'Data':[0,1,2,3,4,5]})\n",
        "print(df)\n",
        "print(\"\\n\")\n",
        "def fil_func(x):\n",
        "    return x['Data'].sum()>3\n",
        "print(df.groupby('Key').filter(fil_func))"
      ],
      "metadata": {
        "colab": {
          "base_uri": "https://localhost:8080/"
        },
        "id": "qSnnRwhJI5pc",
        "outputId": "363fcae7-ed17-47a0-adb3-0e9ac6bf3626"
      },
      "execution_count": null,
      "outputs": [
        {
          "output_type": "stream",
          "name": "stdout",
          "text": [
            "  Key  Data\n",
            "0   A     0\n",
            "1   B     1\n",
            "2   C     2\n",
            "3   A     3\n",
            "4   B     4\n",
            "5   C     5\n",
            "\n",
            "\n",
            "  Key  Data\n",
            "1   B     1\n",
            "2   C     2\n",
            "4   B     4\n",
            "5   C     5\n"
          ]
        }
      ]
    }
  ]
}
