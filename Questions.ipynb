{
  "nbformat": 4,
  "nbformat_minor": 0,
  "metadata": {
    "colab": {
      "provenance": [],
      "authorship_tag": "ABX9TyMGnx1xi+ppWW9ZrhwvS4jz",
      "include_colab_link": true
    },
    "kernelspec": {
      "name": "python3",
      "display_name": "Python 3"
    },
    "language_info": {
      "name": "python"
    }
  },
  "cells": [
    {
      "cell_type": "markdown",
      "metadata": {
        "id": "view-in-github",
        "colab_type": "text"
      },
      "source": [
        "<a href=\"https://colab.research.google.com/github/AadarshS9/Computational-Statistics-S3/blob/main/Questions.ipynb\" target=\"_parent\"><img src=\"https://colab.research.google.com/assets/colab-badge.svg\" alt=\"Open In Colab\"/></a>"
      ]
    },
    {
      "cell_type": "code",
      "execution_count": 28,
      "metadata": {
        "colab": {
          "base_uri": "https://localhost:8080/"
        },
        "id": "nRzdz2FxTMyo",
        "outputId": "d041880f-b36c-479f-ab35-31f2aa833567"
      },
      "outputs": [
        {
          "output_type": "stream",
          "name": "stdout",
          "text": [
            "   school class            name date_Of_Birth   age  height  weight  address\n",
            "S1   s001     V  Alberto Franco     15/05/2002   12     173      35  street1\n",
            "S2   s002     V    Gino Mcneill     17/05/2002   12     192      32  street2\n",
            "S3   s003    VI     Ryan Parkes     16/02/1999   13     186      33  street3\n",
            "S4   s001    VI    Eesha Hinton     25/09/1998   13     167      30  street1\n",
            "S5   s002     V    Gino Mcneill     11/05/2002   14     151      31  street2\n",
            "S6   s004    VI    David Parkes     15/09/1997   12     159      32  street4\n",
            "\n",
            "\n",
            "Mean, min, and max value of age for each value of the school\n",
            "------------------------------------------------------------\n",
            "         age        \n",
            "        mean min max\n",
            "school              \n",
            "s001    12.5  12  13\n",
            "s002    13.0  12  14\n",
            "s003    13.0  13  13\n",
            "s004    12.0  12  12\n"
          ]
        }
      ],
      "source": [
        "#1.Write a Pandas program to split the following dataframe by school code and get mean, min, and max value of age for each school.\n",
        "import pandas as pd\n",
        "student_data = pd.DataFrame({'school': ['s001','s002','s003','s001','s002','s004'],\n",
        "    'class': ['V', 'V', 'VI', 'VI', 'V', 'VI'],\n",
        "    'name': ['Alberto Franco','Gino Mcneill','Ryan Parkes', 'Eesha Hinton', 'Gino Mcneill', 'David Parkes'],\n",
        "    'date_Of_Birth ': ['15/05/2002','17/05/2002','16/02/1999','25/09/1998','11/05/2002','15/09/1997'],\n",
        "    'age': [12, 12, 13, 13, 14, 12],\n",
        "    'height': [173, 192, 186, 167, 151, 159],\n",
        "    'weight': [35, 32, 33, 30, 31, 32],\n",
        "    'address': ['street1', 'street2', 'street3', 'street1', 'street2', 'street4']},\n",
        "    index=['S1', 'S2', 'S3', 'S4', 'S5', 'S6'])\n",
        "\n",
        "print(student_data)\n",
        "print(\"\\n\")\n",
        "print('Mean, min, and max value of age for each value of the school')\n",
        "print(\"------------------------------------------------------------\")\n",
        "grouped = student_data.groupby('school').agg({'age': ['mean', 'min', 'max']})\n",
        "print(grouped)"
      ]
    },
    {
      "cell_type": "code",
      "source": [
        "#2.Write a Pandas program to split a dataset, group by one column and get mean, min, and max values by group. Using the following dataset find the mean, min, and max values of purchase amount (purch_amt) group by customer id (customer_id).\n",
        "import pandas as pd\n",
        "orders_data = pd.DataFrame({'ord_no':[70001,70009,70002,70004,70007,70005,70008,70010,70003,70012,70011,70013],\n",
        "  'purch_amt':[150.5,270.65,65.26,110.5,948.5,2400.6,5760,1983.43,2480.4,250.45, 75.29,3045.6],\n",
        "  'ord_date': ['2012-10-05','2012-09-10','2012-10-05','2012-08-17','2012-09-10','2012-07-27','2012-09-10','2012-10-10','2012-10-10','2012-06-27','2012-08-17','2012-04-25'],\n",
        "  'customer_id':[3005,3001,3002,3009,3005,3007,3002,3004,3009,3008,3003,3002],\n",
        "  'salesman_id': [5002,5005,5001,5003,5002,5001,5001,5006,5003,5002,5007,5001]})\n",
        "\n",
        "print(orders_data)\n",
        "print(\"\\n\")\n",
        "print(\"Mean, min, and max values of purchase amount (purch_amt) group by customer id  (customer_id)\")\n",
        "print(\"--------------------------------------------------------------------------------------------\")\n",
        "grouped = orders_data.groupby('customer_id').agg({'purch_amt': ['mean', 'min', 'max']})\n",
        "print(grouped)"
      ],
      "metadata": {
        "colab": {
          "base_uri": "https://localhost:8080/"
        },
        "id": "AblGNEaVVy43",
        "outputId": "0acf1a1a-2e60-4d6b-d585-83b7abdce2bb"
      },
      "execution_count": 26,
      "outputs": [
        {
          "output_type": "stream",
          "name": "stdout",
          "text": [
            "    ord_no  purch_amt    ord_date  customer_id  salesman_id\n",
            "0    70001     150.50  2012-10-05         3005         5002\n",
            "1    70009     270.65  2012-09-10         3001         5005\n",
            "2    70002      65.26  2012-10-05         3002         5001\n",
            "3    70004     110.50  2012-08-17         3009         5003\n",
            "4    70007     948.50  2012-09-10         3005         5002\n",
            "5    70005    2400.60  2012-07-27         3007         5001\n",
            "6    70008    5760.00  2012-09-10         3002         5001\n",
            "7    70010    1983.43  2012-10-10         3004         5006\n",
            "8    70003    2480.40  2012-10-10         3009         5003\n",
            "9    70012     250.45  2012-06-27         3008         5002\n",
            "10   70011      75.29  2012-08-17         3003         5007\n",
            "11   70013    3045.60  2012-04-25         3002         5001\n",
            "\n",
            "\n",
            "Mean, min, and max values of purchase amount (purch_amt) group by customer id  (customer_id)\n",
            "--------------------------------------------------------------------------------------------\n",
            "               purch_amt                  \n",
            "                    mean      min      max\n",
            "customer_id                               \n",
            "3001          270.650000   270.65   270.65\n",
            "3002         2956.953333    65.26  5760.00\n",
            "3003           75.290000    75.29    75.29\n",
            "3004         1983.430000  1983.43  1983.43\n",
            "3005          549.500000   150.50   948.50\n",
            "3007         2400.600000  2400.60  2400.60\n",
            "3008          250.450000   250.45   250.45\n",
            "3009         1295.450000   110.50  2480.40\n"
          ]
        }
      ]
    },
    {
      "cell_type": "code",
      "source": [
        "#3.Write a Pandas program to split the following dataframe by school code and get mean, min, and max value of age for each school.\n",
        "import pandas as pd\n",
        "student_data = pd.DataFrame({'school': ['s001','s002','s003','s001','s002','s004'],\n",
        "    'class': ['V', 'V', 'VI', 'VI', 'V', 'VI'],\n",
        "    'name': ['Alberto Franco','Gino Mcneill','Ryan Parkes', 'Eesha Hinton', 'Gino Mcneill', 'David Parkes'],\n",
        "    'date_Of_Birth ': ['15/05/2002','17/05/2002','16/02/1999','25/09/1998','11/05/2002','15/09/1997'],\n",
        "    'age': [12, 12, 13, 13, 14, 12],\n",
        "    'height': [173, 192, 186, 167, 151, 159],\n",
        "    'weight': [35, 32, 33, 30, 31, 32],\n",
        "    'address': ['street1', 'street2', 'street3', 'street1', 'street2', 'street4']},\n",
        "    index=['S1', 'S2', 'S3', 'S4', 'S5', 'S6'])\n",
        "\n",
        "print(student_data)\n",
        "print(\"\\n\")\n",
        "print('Mean, min, and max value of age for each value of the school')\n",
        "print(\"------------------------------------------------------------\")\n",
        "grouped = student_data.groupby('school').agg({'age': ['mean', 'min', 'max']})\n",
        "print(grouped)"
      ],
      "metadata": {
        "colab": {
          "base_uri": "https://localhost:8080/"
        },
        "id": "_pTLqIMDW4C3",
        "outputId": "a5ab2c55-42d4-47ae-a3d5-6c4ec4e9ed0c"
      },
      "execution_count": 25,
      "outputs": [
        {
          "output_type": "stream",
          "name": "stdout",
          "text": [
            "   school class            name date_Of_Birth   age  height  weight  address\n",
            "S1   s001     V  Alberto Franco     15/05/2002   12     173      35  street1\n",
            "S2   s002     V    Gino Mcneill     17/05/2002   12     192      32  street2\n",
            "S3   s003    VI     Ryan Parkes     16/02/1999   13     186      33  street3\n",
            "S4   s001    VI    Eesha Hinton     25/09/1998   13     167      30  street1\n",
            "S5   s002     V    Gino Mcneill     11/05/2002   14     151      31  street2\n",
            "S6   s004    VI    David Parkes     15/09/1997   12     159      32  street4\n",
            "\n",
            "\n",
            "Mean, min, and max value of age for each value of the school\n",
            "------------------------------------------------------------\n",
            "         age        \n",
            "        mean min max\n",
            "school              \n",
            "s001    12.5  12  13\n",
            "s002    13.0  12  14\n",
            "s003    13.0  13  13\n",
            "s004    12.0  12  12\n"
          ]
        }
      ]
    },
    {
      "cell_type": "code",
      "source": [
        "#4.Write a Pandas program to split the following dataframe into groups by school code and get mean, min, and max value of age with customized column name for each school.\n",
        "import pandas as pd\n",
        "student_data = pd.DataFrame({'school': ['s001','s002','s003','s001','s002','s004'],\n",
        "    'class': ['V', 'V', 'VI', 'VI', 'V', 'VI'],\n",
        "    'name': ['Alberto Franco','Gino Mcneill','Ryan Parkes', 'Eesha Hinton', 'Gino Mcneill', 'David Parkes'],\n",
        "    'date_Of_Birth ': ['15/05/2002','17/05/2002','16/02/1999','25/09/1998','11/05/2002','15/09/1997'],\n",
        "    'age': [12, 12, 13, 13, 14, 12],\n",
        "    ' height ': [173, 192, 186, 167, 151, 159],\n",
        "    'weight': [35, 32, 33, 30, 31, 32],\n",
        "    'address': ['street1', 'street2', 'street3', 'street1', 'street2', 'street4']},\n",
        "    index=['S1', 'S2', 'S3', 'S4', 'S5', 'S6'])\n",
        "\n",
        "print(student_data)\n",
        "print(\"\\n\")\n",
        "print('Mean, min, and max value of age for each school with customized column names')\n",
        "print(\"----------------------------------------------------------------------------\")\n",
        "grouped = student_data.groupby('school').agg(Age_Mean = ('age','mean'),Age_Max=('age',max),Age_Min=('age',min))\n",
        "print(grouped)"
      ],
      "metadata": {
        "colab": {
          "base_uri": "https://localhost:8080/"
        },
        "id": "Fyc0jDUrXQYg",
        "outputId": "0ddb5b29-9b53-482b-f8ef-71ec11586d0a"
      },
      "execution_count": 24,
      "outputs": [
        {
          "output_type": "stream",
          "name": "stdout",
          "text": [
            "   school class            name date_Of_Birth   age   height   weight  address\n",
            "S1   s001     V  Alberto Franco     15/05/2002   12       173      35  street1\n",
            "S2   s002     V    Gino Mcneill     17/05/2002   12       192      32  street2\n",
            "S3   s003    VI     Ryan Parkes     16/02/1999   13       186      33  street3\n",
            "S4   s001    VI    Eesha Hinton     25/09/1998   13       167      30  street1\n",
            "S5   s002     V    Gino Mcneill     11/05/2002   14       151      31  street2\n",
            "S6   s004    VI    David Parkes     15/09/1997   12       159      32  street4\n",
            "\n",
            "\n",
            "Mean, min, and max value of age for each school with customized column names\n",
            "----------------------------------------------------------------------------\n",
            "        Age_Mean  Age_Max  Age_Min\n",
            "school                            \n",
            "s001        12.5       13       12\n",
            "s002        13.0       14       12\n",
            "s003        13.0       13       13\n",
            "s004        12.0       12       12\n"
          ]
        }
      ]
    },
    {
      "cell_type": "code",
      "source": [
        "#5.Write a Pandas program to split a given dataframe into groups and create a new column with count from GroupBy.\n",
        "import pandas as pd\n",
        "df = pd.DataFrame({'book_name':['Book1','Book2','Book3','Book4','Book1','Book2','Book3','Book5'],\n",
        "  'book_type':['Math','Physics','Computer','Science','Math','Physics','Computer','English'],\n",
        "  'book_id':[1,2,3,4,1,2,3,5]})\n",
        "\n",
        "print(df)\n",
        "print(\"\\n\")\n",
        "print(\"New column with count from groupby\")\n",
        "print(\"----------------------------------\")\n",
        "grouped = df.groupby([\"book_name\", \"book_type\"])[\"book_type\"].count().reset_index(name=\"count\")\n",
        "print(grouped)"
      ],
      "metadata": {
        "colab": {
          "base_uri": "https://localhost:8080/"
        },
        "id": "-0PRQ5zfXwn5",
        "outputId": "ffabe43e-4ce8-4bd1-ac60-35befdf4299c"
      },
      "execution_count": 23,
      "outputs": [
        {
          "output_type": "stream",
          "name": "stdout",
          "text": [
            "  book_name book_type  book_id\n",
            "0     Book1      Math        1\n",
            "1     Book2   Physics        2\n",
            "2     Book3  Computer        3\n",
            "3     Book4   Science        4\n",
            "4     Book1      Math        1\n",
            "5     Book2   Physics        2\n",
            "6     Book3  Computer        3\n",
            "7     Book5   English        5\n",
            "\n",
            "\n",
            "New column with count from groupby\n",
            "----------------------------------\n",
            "  book_name book_type  count\n",
            "0     Book1      Math      2\n",
            "1     Book2   Physics      2\n",
            "2     Book3  Computer      2\n",
            "3     Book4   Science      1\n",
            "4     Book5   English      1\n"
          ]
        }
      ]
    }
  ]
}