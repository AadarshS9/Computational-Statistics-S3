{
  "nbformat": 4,
  "nbformat_minor": 0,
  "metadata": {
    "colab": {
      "provenance": [],
      "authorship_tag": "ABX9TyPr7V2bEF9KHcxKkv9NZbrv",
      "include_colab_link": true
    },
    "kernelspec": {
      "name": "python3",
      "display_name": "Python 3"
    },
    "language_info": {
      "name": "python"
    }
  },
  "cells": [
    {
      "cell_type": "markdown",
      "metadata": {
        "id": "view-in-github",
        "colab_type": "text"
      },
      "source": [
        "<a href=\"https://colab.research.google.com/github/AadarshS9/Computational-Statistics-S3/blob/main/AdditionalPrograms.ipynb\" target=\"_parent\"><img src=\"https://colab.research.google.com/assets/colab-badge.svg\" alt=\"Open In Colab\"/></a>"
      ]
    },
    {
      "cell_type": "code",
      "execution_count": null,
      "metadata": {
        "colab": {
          "base_uri": "https://localhost:8080/"
        },
        "id": "3TRoQCSVrg5k",
        "outputId": "1952daa9-5072-46f2-fd2d-518ebea749ee"
      },
      "outputs": [
        {
          "output_type": "stream",
          "name": "stdout",
          "text": [
            "0    1\n",
            "1    7\n",
            "2    2\n",
            "dtype: int64\n",
            "1\n",
            "7\n",
            "2\n"
          ]
        }
      ],
      "source": [
        "#create a simple pandas series from a list\n",
        "import pandas as pd\n",
        "a=[1,7,2]\n",
        "myvar=pd.Series(a)\n",
        "print(myvar)\n",
        "print(myvar[0])\n",
        "print(myvar[1])\n",
        "print(myvar[2])"
      ]
    },
    {
      "cell_type": "code",
      "source": [
        "#create a label for series\n",
        "import pandas as pd\n",
        "a=[1,7,2]\n",
        "myvar=pd.Series(a,index=[\"x\",\"y\",\"z\"])\n",
        "print(myvar)\n"
      ],
      "metadata": {
        "colab": {
          "base_uri": "https://localhost:8080/"
        },
        "id": "d1wlFQIXuARD",
        "outputId": "0dc59d41-1a0d-400a-de44-5a489f0b57dd"
      },
      "execution_count": null,
      "outputs": [
        {
          "output_type": "stream",
          "name": "stdout",
          "text": [
            "x    1\n",
            "y    7\n",
            "z    2\n",
            "dtype: int64\n"
          ]
        }
      ]
    },
    {
      "cell_type": "code",
      "source": [
        "#create a simple panda series from a dictionary\n",
        "import pandas as pd\n",
        "calories={\"day1\": 420, \"day2\": 380,\"day3\": 390}\n",
        "myvar=pd.Series(calories)\n",
        "print(myvar)"
      ],
      "metadata": {
        "colab": {
          "base_uri": "https://localhost:8080/"
        },
        "id": "lD5yU8HhuYi6",
        "outputId": "7a0c18ef-4941-4eff-ec9d-94e5838c77c4"
      },
      "execution_count": null,
      "outputs": [
        {
          "output_type": "stream",
          "name": "stdout",
          "text": [
            "day1    420\n",
            "day2    380\n",
            "day3    390\n",
            "dtype: int64\n"
          ]
        }
      ]
    },
    {
      "cell_type": "code",
      "source": [
        "#create a series using only selected data from dictionary\n",
        "import pandas as pd\n",
        "calories={\"day1\": 420, \"day2\": 380,\"day3\": 390,\"day4\": 400,\"day5\": 370,\"day6\": 369,\"day7\": 450,\"day8\": 360,\"day9\": 410,\"day10\": 444}\n",
        "myvar=pd.Series(calories,index=[\"day2\",\"day4\",\"day6\",\"day8\",\"day10\"])\n",
        "print(myvar)"
      ],
      "metadata": {
        "colab": {
          "base_uri": "https://localhost:8080/"
        },
        "id": "5ujCuXAOu8l6",
        "outputId": "7979d58b-2d15-40f7-c460-31e706711df5"
      },
      "execution_count": null,
      "outputs": [
        {
          "output_type": "stream",
          "name": "stdout",
          "text": [
            "day2     380\n",
            "day4     400\n",
            "day6     369\n",
            "day8     360\n",
            "day10    444\n",
            "dtype: int64\n"
          ]
        }
      ]
    },
    {
      "cell_type": "code",
      "source": [
        "#create a dataframe from two series\n",
        "import pandas as pd\n",
        "data={\n",
        "    \"calories\":[420,380,390],\n",
        "    \"duration\":[50,40,45]\n",
        "}\n",
        "myvar=pd.DataFrame(data)\n",
        "print(myvar)\n",
        "print(\"\\n\")\n",
        "print(myvar.loc[0])"
      ],
      "metadata": {
        "colab": {
          "base_uri": "https://localhost:8080/"
        },
        "id": "ZpUstX6TxW5z",
        "outputId": "1c90cbd9-de16-47ea-eb62-55daf8a99aa8"
      },
      "execution_count": null,
      "outputs": [
        {
          "output_type": "stream",
          "name": "stdout",
          "text": [
            "   calories  duration\n",
            "0       420        50\n",
            "1       380        40\n",
            "2       390        45\n",
            "\n",
            "\n",
            "calories    420\n",
            "duration     50\n",
            "Name: 0, dtype: int64\n"
          ]
        }
      ]
    },
    {
      "cell_type": "code",
      "source": [
        "#add a list of names to give each row a name\n",
        "import pandas as pd\n",
        "data={\n",
        "    \"calories\":[420,380,390],\n",
        "    \"duration\":[50,40,45]\n",
        "}\n",
        "df=pd.DataFrame(data,index=[\"day1\",\"day2\",\"day3\"])\n",
        "print(df)"
      ],
      "metadata": {
        "colab": {
          "base_uri": "https://localhost:8080/"
        },
        "id": "dCFFJZBIzXQT",
        "outputId": "7482bd98-5697-44a9-ec05-83b95a290418"
      },
      "execution_count": null,
      "outputs": [
        {
          "output_type": "stream",
          "name": "stdout",
          "text": [
            "      calories  duration\n",
            "day1       420        50\n",
            "day2       380        40\n",
            "day3       390        45\n"
          ]
        }
      ]
    },
    {
      "cell_type": "code",
      "source": [
        "#create dataframe using csv file\n",
        "import pandas as pd\n",
        "df=pd.read_csv(\"data.csv\")\n",
        "print(df)"
      ],
      "metadata": {
        "id": "fYN9FvUy0NkS"
      },
      "execution_count": null,
      "outputs": []
    },
    {
      "cell_type": "code",
      "source": [
        "#merge two lists\n",
        "dict_1={1:'a',2:'b'}\n",
        "dict_2={3:'c',4:'d'}\n",
        "print({**dict_1,**dict_2})"
      ],
      "metadata": {
        "colab": {
          "base_uri": "https://localhost:8080/"
        },
        "id": "UFtoxG-h0Whh",
        "outputId": "5b20bc4f-3166-487f-c7be-288923a665c4"
      },
      "execution_count": null,
      "outputs": [
        {
          "output_type": "stream",
          "name": "stdout",
          "text": [
            "{1: 'a', 2: 'b', 3: 'c', 4: 'd'}\n"
          ]
        }
      ]
    },
    {
      "cell_type": "code",
      "source": [
        "#merge two lists using copy and update\n",
        "dict_1={1:'a',2:'b'}\n",
        "dict_2={3:'c',4:'d'}\n",
        "dict_3=dict_2.copy()\n",
        "dict_3.update(dict_1)\n",
        "print(dict_3)"
      ],
      "metadata": {
        "colab": {
          "base_uri": "https://localhost:8080/"
        },
        "id": "Gz1bB8Os2GZz",
        "outputId": "880d88fb-ed9c-453c-8366-ff5fd6364c96"
      },
      "execution_count": null,
      "outputs": [
        {
          "output_type": "stream",
          "name": "stdout",
          "text": [
            "{3: 'c', 4: 'd', 1: 'a', 2: 'b'}\n"
          ]
        }
      ]
    },
    {
      "cell_type": "code",
      "source": [
        "#lists enumeration\n",
        "my_list=[21,44,35,11]\n",
        "for index,val in enumerate(my_list):\n",
        "  print(index,val)\n"
      ],
      "metadata": {
        "colab": {
          "base_uri": "https://localhost:8080/"
        },
        "id": "8P71UDUB3ENK",
        "outputId": "e0121ce6-1cf0-4a12-a2a5-f92dc1375840"
      },
      "execution_count": null,
      "outputs": [
        {
          "output_type": "stream",
          "name": "stdout",
          "text": [
            "0 21\n",
            "1 44\n",
            "2 35\n",
            "3 11\n"
          ]
        }
      ]
    },
    {
      "cell_type": "code",
      "source": [
        "#lists enumeration with starting point\n",
        "my_list=[21,44,35,11]\n",
        "for index,val in enumerate(my_list,start=1):\n",
        "  print(index,val)"
      ],
      "metadata": {
        "colab": {
          "base_uri": "https://localhost:8080/"
        },
        "id": "JGD-5TyY3r76",
        "outputId": "294f2436-6674-4e33-f7f2-3c01a54c3033"
      },
      "execution_count": null,
      "outputs": [
        {
          "output_type": "stream",
          "name": "stdout",
          "text": [
            "1 21\n",
            "2 44\n",
            "3 35\n",
            "4 11\n"
          ]
        }
      ]
    },
    {
      "cell_type": "code",
      "source": [
        "#slicing a list\n",
        "my_list=[1,2,3,4,5,6,7,8,9,10]\n",
        "print(my_list[:])\n",
        "print(my_list[5:])\n",
        "print(my_list[:4])\n",
        "print(my_list[::2])\n",
        "print(my_list[::-2])\n",
        "print(my_list[2:8])\n",
        "print(my_list[1::3])\n",
        "print(my_list[:9:2])\n",
        "print(my_list[1:6:2])\n"
      ],
      "metadata": {
        "colab": {
          "base_uri": "https://localhost:8080/"
        },
        "id": "IVwcnW614W_A",
        "outputId": "2de18c0d-bd6a-4e2a-ed4a-a469c89a2805"
      },
      "execution_count": null,
      "outputs": [
        {
          "output_type": "stream",
          "name": "stdout",
          "text": [
            "[1, 2, 3, 4, 5, 6, 7, 8, 9, 10]\n",
            "[6, 7, 8, 9, 10]\n",
            "[1, 2, 3, 4]\n",
            "[1, 3, 5, 7, 9]\n",
            "[10, 8, 6, 4, 2]\n",
            "[3, 4, 5, 6, 7, 8]\n",
            "[2, 5, 8]\n",
            "[1, 3, 5, 7, 9]\n",
            "[2, 4, 6]\n"
          ]
        }
      ]
    }
  ]
}